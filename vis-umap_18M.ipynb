{
 "cells": [
  {
   "cell_type": "markdown",
   "metadata": {},
   "source": [
    "# C33 UMAP Visualisation of 18M \n",
    "\n",
    "UMAP for 18M"
   ]
  },
  {
   "cell_type": "markdown",
   "metadata": {},
   "source": [
    "## Imports"
   ]
  },
  {
   "cell_type": "code",
   "execution_count": 1,
   "metadata": {},
   "outputs": [
    {
     "name": "stdout",
     "output_type": "stream",
     "text": [
      "3.6.9 (default, Jul  3 2019, 15:36:16) \n",
      "[GCC 5.4.0 20160609]\n"
     ]
    }
   ],
   "source": [
    "import sys \n",
    "import os\n",
    "import pathlib\n",
    "import time\n",
    "print(sys.version)"
   ]
  },
  {
   "cell_type": "code",
   "execution_count": 2,
   "metadata": {},
   "outputs": [
    {
     "name": "stdout",
     "output_type": "stream",
     "text": [
      "True\n",
      "/home/mutaz/ilab1\n",
      "['/usr/lib/python36.zip', '/usr/lib/python3.6', '/usr/lib/python3.6/lib-dynload', '', '/home/mutaz/.local/lib/python3.6/site-packages', '/usr/local/lib/python3.6/dist-packages', '/usr/lib/python3/dist-packages', '/home/mutaz/.local/lib/python3.6/site-packages/IPython/extensions', '/home/mutaz/.ipython', '../']\n"
     ]
    }
   ],
   "source": [
    "utils_path = pathlib.Path(os.getcwd() + '/utils')  # i suspect this one is not needed\n",
    "print(utils_path.exists())\n",
    "print(os.getcwd())\n",
    "#sys.path.append(str(utils_path))  # may not be necessary\n",
    "#sys.path.append(os.getcwd())  # i thnk this is the one that works \n",
    "sys.path.append('../') # this one is one level up so we can see the utils lib\n",
    "print(sys.path)"
   ]
  },
  {
   "cell_type": "code",
   "execution_count": 3,
   "metadata": {},
   "outputs": [],
   "source": [
    "import numpy as np\n",
    "import sklearn\n",
    "from sklearn.datasets import load_iris, load_digits\n",
    "from sklearn.model_selection import train_test_split\n",
    "import matplotlib.pyplot as plt\n",
    "import seaborn as sns\n",
    "import pandas as pd\n",
    "\n",
    "from utils.data import Data\n",
    "from utils.config import Config"
   ]
  },
  {
   "cell_type": "code",
   "execution_count": 4,
   "metadata": {},
   "outputs": [],
   "source": [
    "import umap\n",
    "import numba"
   ]
  },
  {
   "cell_type": "markdown",
   "metadata": {},
   "source": [
    "## Read Data"
   ]
  },
  {
   "cell_type": "code",
   "execution_count": 5,
   "metadata": {},
   "outputs": [
    {
     "name": "stderr",
     "output_type": "stream",
     "text": [
      "100%|██████████| 38/38 [09:21<00:00, 14.76s/it]\n"
     ]
    },
    {
     "name": "stdout",
     "output_type": "stream",
     "text": [
      "pd.concat 38 df chunks: 570.41s\n",
      "set index: 571.08s\n",
      "time to load 571.08s\n"
     ]
    }
   ],
   "source": [
    "d = Data()\n",
    "df = d.get18M_features(descriptors='C33')\n",
    "\n",
    "## need to add commenserate and DFT here "
   ]
  },
  {
   "cell_type": "code",
   "execution_count": 6,
   "metadata": {},
   "outputs": [
    {
     "data": {
      "text/plain": [
       "(18834453, 104)"
      ]
     },
     "execution_count": 6,
     "metadata": {},
     "output_type": "execute_result"
    }
   ],
   "source": [
    "df.shape"
   ]
  },
  {
   "cell_type": "code",
   "execution_count": 7,
   "metadata": {},
   "outputs": [
    {
     "name": "stdout",
     "output_type": "stream",
     "text": [
      "<class 'pandas.core.frame.DataFrame'>\n",
      "Index: 18834453 entries, Cr1O2_Zr1Cl4 to C1I2_Tl2\n",
      "Columns: 104 entries, bilayer to SG164\n",
      "dtypes: float32(98), int64(3), object(3)\n",
      "memory usage: 12.1 GB\n"
     ]
    }
   ],
   "source": [
    "df.info(memory_usage='deep')"
   ]
  },
  {
   "cell_type": "markdown",
   "metadata": {},
   "source": [
    "# UMAP"
   ]
  },
  {
   "cell_type": "code",
   "execution_count": null,
   "metadata": {},
   "outputs": [],
   "source": []
  },
  {
   "cell_type": "markdown",
   "metadata": {
    "toc-hr-collapsed": false
   },
   "source": [
    "## umap_fit function"
   ]
  },
  {
   "cell_type": "code",
   "execution_count": 8,
   "metadata": {},
   "outputs": [],
   "source": [
    "# call with df_features[feature_cols]\n",
    "# labels_df has two columns C33 and communsurate \n",
    "\n",
    "def umap_fit(df, labels_df, \n",
    "             plot_df_filename, \n",
    "             index_name='uid', \n",
    "             n_neighbors = 15, \n",
    "             n_components = 2, \n",
    "             min_dist = 0.1, \n",
    "             metric = 'euclidean'):\n",
    "    \n",
    "    reducer = umap.UMAP(n_neighbors=n_neighbors,\n",
    "                        n_components=n_components,\n",
    "                        min_dist=min_dist,\n",
    "                        metric=metric,\n",
    "                        random_state=50\n",
    "                       )\n",
    "    \n",
    "    embeddings = reducer.fit_transform(df)\n",
    "    embeddings_df = pd.DataFrame(embeddings, columns={'x','y'})\n",
    "    label1_name = labels_df.columns[0]\n",
    "    label2_name = labels_df.columns[1]\n",
    "    \n",
    "    plot_df = pd.concat([embeddings_df, labels_df], \n",
    "              axis=1, \n",
    "              ignore_index=False)\n",
    "    \n",
    "    plot_df.set_index(index_name, inplace=True)\n",
    "    \n",
    "    plot_df.to_csv(Config().get_datapath(plot_df_filename))\n",
    "    \n",
    "    return(plot_df)"
   ]
  },
  {
   "cell_type": "markdown",
   "metadata": {},
   "source": [
    "# Generate Umap plot dfs "
   ]
  },
  {
   "cell_type": "code",
   "execution_count": 9,
   "metadata": {},
   "outputs": [],
   "source": [
    "n = df.shape[0]\n",
    "neighbors_list = [30]\n",
    "components = 2\n",
    "\n",
    "filename_pattern = 'umap_18Mdf_{}_{}_{}_{}.csv'"
   ]
  },
  {
   "cell_type": "code",
   "execution_count": null,
   "metadata": {},
   "outputs": [
    {
     "name": "stdout",
     "output_type": "stream",
     "text": [
      "prep for filename: umap_18Mdf_C33_18834453_30_2.csv\n"
     ]
    }
   ],
   "source": [
    "for neighbors in neighbors_list: \n",
    "    time_start = time.time()\n",
    "    filename = filename_pattern.format('C33',n,neighbors, components)\n",
    "    print(f'prep for filename: {filename}')\n",
    "    plot_df = umap_fit(df=df,\n",
    "                   labels_df=df[['C33','IE']].reset_index(), \n",
    "                   plot_df_filename=filename,\n",
    "                   n_neighbors=neighbors, \n",
    "                   n_components=components)\n",
    "    print('for neighbors: {}. {:.3f} secs'.format(neighbors,time.time()-time_start))"
   ]
  },
  {
   "cell_type": "code",
   "execution_count": null,
   "metadata": {},
   "outputs": [],
   "source": []
  }
 ],
 "metadata": {
  "file_extension": ".py",
  "kernelspec": {
   "display_name": "Python 3",
   "language": "python",
   "name": "python3"
  },
  "language_info": {
   "codemirror_mode": {
    "name": "ipython",
    "version": 3
   },
   "file_extension": ".py",
   "mimetype": "text/x-python",
   "name": "python",
   "nbconvert_exporter": "python",
   "pygments_lexer": "ipython3",
   "version": "3.6.9"
  },
  "mimetype": "text/x-python",
  "name": "python",
  "npconvert_exporter": "python",
  "pygments_lexer": "ipython3",
  "version": 3
 },
 "nbformat": 4,
 "nbformat_minor": 4
}
