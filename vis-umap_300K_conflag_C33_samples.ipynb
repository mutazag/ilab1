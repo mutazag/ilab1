{
 "cells": [
  {
   "cell_type": "markdown",
   "metadata": {},
   "source": [
    "# C33 UMAP Visualisation of 300K \n",
    "\n",
    "UMAP with different hyper params "
   ]
  },
  {
   "cell_type": "markdown",
   "metadata": {},
   "source": [
    "## Imports"
   ]
  },
  {
   "cell_type": "code",
   "execution_count": 1,
   "metadata": {},
   "outputs": [
    {
     "name": "stdout",
     "output_type": "stream",
     "text": [
      "3.6.9 (default, Jul  3 2019, 15:36:16) \n",
      "[GCC 5.4.0 20160609]\n"
     ]
    }
   ],
   "source": [
    "import sys \n",
    "import os\n",
    "import pathlib\n",
    "import time\n",
    "print(sys.version)"
   ]
  },
  {
   "cell_type": "code",
   "execution_count": 2,
   "metadata": {},
   "outputs": [
    {
     "name": "stdout",
     "output_type": "stream",
     "text": [
      "True\n",
      "/home/mutaz/ilab1\n",
      "['/usr/lib/python36.zip', '/usr/lib/python3.6', '/usr/lib/python3.6/lib-dynload', '', '/home/mutaz/.local/lib/python3.6/site-packages', '/usr/local/lib/python3.6/dist-packages', '/usr/lib/python3/dist-packages', '/home/mutaz/.local/lib/python3.6/site-packages/IPython/extensions', '/home/mutaz/.ipython', '../']\n"
     ]
    }
   ],
   "source": [
    "utils_path = pathlib.Path(os.getcwd() + '/utils')  # i suspect this one is not needed\n",
    "print(utils_path.exists())\n",
    "print(os.getcwd())\n",
    "#sys.path.append(str(utils_path))  # may not be necessary\n",
    "#sys.path.append(os.getcwd())  # i thnk this is the one that works \n",
    "sys.path.append('../') # this one is one level up so we can see the utils lib\n",
    "print(sys.path)"
   ]
  },
  {
   "cell_type": "code",
   "execution_count": 3,
   "metadata": {},
   "outputs": [],
   "source": [
    "import numpy as np\n",
    "import sklearn\n",
    "from sklearn.datasets import load_iris, load_digits\n",
    "from sklearn.model_selection import train_test_split\n",
    "import matplotlib.pyplot as plt\n",
    "import seaborn as sns\n",
    "import pandas as pd\n",
    "\n",
    "from utils.data import Data\n",
    "from utils.config import Config"
   ]
  },
  {
   "cell_type": "code",
   "execution_count": 4,
   "metadata": {},
   "outputs": [],
   "source": [
    "import umap\n",
    "import numba"
   ]
  },
  {
   "cell_type": "markdown",
   "metadata": {},
   "source": [
    "## Read Data"
   ]
  },
  {
   "cell_type": "code",
   "execution_count": 5,
   "metadata": {},
   "outputs": [
    {
     "name": "stdout",
     "output_type": "stream",
     "text": [
      "set index\n",
      "time to load 17.78\n"
     ]
    }
   ],
   "source": [
    "d = Data()\n",
    "# v2 = True: loading the dataset with the con flag\n",
    "df = d.get300K_features(v2=True)"
   ]
  },
  {
   "cell_type": "markdown",
   "metadata": {},
   "source": [
    "### get descriptors column names"
   ]
  },
  {
   "cell_type": "code",
   "execution_count": 6,
   "metadata": {},
   "outputs": [],
   "source": [
    "feature_cols = d.getDescriptorsColumnNames_C33()"
   ]
  },
  {
   "cell_type": "markdown",
   "metadata": {},
   "source": [
    "## sampling bilayers"
   ]
  },
  {
   "cell_type": "code",
   "execution_count": 7,
   "metadata": {},
   "outputs": [],
   "source": [
    "n = df.shape[0]\n",
    "#n = 50000\n",
    "df_features = df.sample(n=n)\n",
    "\n",
    "#df_features.C33\n",
    "#df_features.commensurate\n",
    "#df_features[['C33','commensurate']]"
   ]
  },
  {
   "cell_type": "markdown",
   "metadata": {},
   "source": [
    "# UMAP"
   ]
  },
  {
   "cell_type": "markdown",
   "metadata": {
    "toc-hr-collapsed": false
   },
   "source": [
    "## umap_fit function"
   ]
  },
  {
   "cell_type": "code",
   "execution_count": 8,
   "metadata": {},
   "outputs": [],
   "source": [
    "# call with df_features[feature_cols]\n",
    "# labels_df has two columns C33 and communsurate \n",
    "\n",
    "def umap_fit(df, labels_df, \n",
    "             plot_df_filename, \n",
    "             index_name='uid', \n",
    "             n_neighbors = 15, \n",
    "             n_components = 2, \n",
    "             min_dist = 0.1, \n",
    "             metric = 'euclidean'):\n",
    "    \n",
    "    reducer = umap.UMAP(n_neighbors=n_neighbors,\n",
    "                        n_components=n_components,\n",
    "                        min_dist=min_dist,\n",
    "                        metric=metric,\n",
    "                        random_state=50\n",
    "                       )\n",
    "    \n",
    "    embeddings = reducer.fit_transform(df)\n",
    "    embeddings_df = pd.DataFrame(embeddings, columns={'x','y'})\n",
    "    label1_name = labels_df.columns[0]\n",
    "    label2_name = labels_df.columns[1]\n",
    "    \n",
    "    plot_df = pd.concat([embeddings_df, labels_df], \n",
    "              axis=1, \n",
    "              ignore_index=False)\n",
    "    \n",
    "    plot_df.set_index(index_name, inplace=True)\n",
    "    \n",
    "    plot_df.to_csv(Config().get_datapath(plot_df_filename))\n",
    "    \n",
    "    return(plot_df)"
   ]
  },
  {
   "cell_type": "markdown",
   "metadata": {},
   "source": [
    "### Test with a small sample"
   ]
  },
  {
   "cell_type": "code",
   "execution_count": null,
   "metadata": {},
   "outputs": [],
   "source": [
    "n = df.shape[0]\n",
    "neighbors = 40\n",
    "components = 2\n",
    "\n",
    "df_features = df.sample(n=n)\n",
    "filename_pattern = 'umap_300Kdf_{}_{}_{}_{}.csv'\n",
    "filename = filename_pattern.format('C33',n,neighbors, components)\n",
    "plot_df = umap_fit(df=df_features[feature_cols],\n",
    "                   labels_df=df_features[['C33','commensurate']].reset_index(), \n",
    "                   plot_df_filename=filename,\n",
    "                   n_neighbors=neighbors, \n",
    "                   n_components=components)"
   ]
  },
  {
   "cell_type": "markdown",
   "metadata": {},
   "source": [
    "### How to cbind \n",
    "\n",
    "``` {python}\n",
    "embeddings = [[1,2], [3,4], [5,6]]\n",
    "embeddings_df = pd.DataFrame(embeddings, columns={'x','y'})\n",
    "labels_df = pd.DataFrame({ 'C33':[.1, .2, .3], 'comm':[True, False, True]})\n",
    "plot_df = pd.concat([embeddings_df, labels_df], axis=1, ignore_index=False)\n",
    "plot_df\n",
    "print(embeddings_df)\n",
    "print(labels_df)\n",
    "print(plot_df)\n",
    "```"
   ]
  },
  {
   "cell_type": "markdown",
   "metadata": {},
   "source": [
    "# Generate Umap plot dfs "
   ]
  },
  {
   "cell_type": "code",
   "execution_count": 11,
   "metadata": {},
   "outputs": [],
   "source": [
    "n = df.shape[0]\n",
    "neighbors_list = [5,15,25,30, 50]\n",
    "components = 2\n",
    "\n",
    "df_features = df.sample(n=n)\n",
    "filename_pattern = 'umap_300Kdf_{}_{}_{}_{}.csv'"
   ]
  },
  {
   "cell_type": "code",
   "execution_count": null,
   "metadata": {},
   "outputs": [
    {
     "name": "stdout",
     "output_type": "stream",
     "text": [
      "prep for filename: umap_300Kdf_C33_296835_5_2.csv\n"
     ]
    },
    {
     "name": "stderr",
     "output_type": "stream",
     "text": [
      "/home/mutaz/.local/lib/python3.6/site-packages/numba/typed_passes.py:271: NumbaPerformanceWarning: \n",
      "The keyword argument 'parallel=True' was specified but no transformation for parallel execution was possible.\n",
      "\n",
      "To find out why, try turning on parallel diagnostics, see http://numba.pydata.org/numba-doc/latest/user/parallel.html#diagnostics for help.\n",
      "\n",
      "File \"../.local/lib/python3.6/site-packages/umap/rp_tree.py\", line 135:\n",
      "@numba.njit(fastmath=True, nogil=True, parallel=True)\n",
      "def euclidean_random_projection_split(data, indices, rng_state):\n",
      "^\n",
      "\n",
      "  state.func_ir.loc))\n",
      "/home/mutaz/.local/lib/python3.6/site-packages/umap/nndescent.py:92: NumbaPerformanceWarning: \n",
      "The keyword argument 'parallel=True' was specified but no transformation for parallel execution was possible.\n",
      "\n",
      "To find out why, try turning on parallel diagnostics, see http://numba.pydata.org/numba-doc/latest/user/parallel.html#diagnostics for help.\n",
      "\n",
      "File \"../.local/lib/python3.6/site-packages/umap/utils.py\", line 409:\n",
      "@numba.njit(parallel=True)\n",
      "def build_candidates(current_graph, n_vertices, n_neighbors, max_candidates, rng_state):\n",
      "^\n",
      "\n",
      "  current_graph, n_vertices, n_neighbors, max_candidates, rng_state\n",
      "/home/mutaz/.local/lib/python3.6/site-packages/numba/typed_passes.py:271: NumbaPerformanceWarning: \n",
      "The keyword argument 'parallel=True' was specified but no transformation for parallel execution was possible.\n",
      "\n",
      "To find out why, try turning on parallel diagnostics, see http://numba.pydata.org/numba-doc/latest/user/parallel.html#diagnostics for help.\n",
      "\n",
      "File \"../.local/lib/python3.6/site-packages/umap/nndescent.py\", line 47:\n",
      "    @numba.njit(parallel=True)\n",
      "    def nn_descent(\n",
      "    ^\n",
      "\n",
      "  state.func_ir.loc))\n",
      "/home/mutaz/.local/lib/python3.6/site-packages/umap/spectral.py:229: UserWarning: Embedding a total of 3566 separate connected components using meta-embedding (experimental)\n",
      "  n_components\n",
      "/home/mutaz/.local/lib/python3.6/site-packages/sklearn/manifold/spectral_embedding_.py:235: UserWarning: Graph is not fully connected, spectral embedding may not work as expected.\n",
      "  warnings.warn(\"Graph is not fully connected, spectral embedding\"\n"
     ]
    }
   ],
   "source": [
    "for neighbors in neighbors_list: \n",
    "    time_start = time.time()\n",
    "    filename = filename_pattern.format('C33',n,neighbors, components)\n",
    "    print(f'prep for filename: {filename}')\n",
    "    plot_df = umap_fit(df=df_features[feature_cols],\n",
    "                   labels_df=df_features[['C33','commensurate']].reset_index(), \n",
    "                   plot_df_filename=filename,\n",
    "                   n_neighbors=neighbors, \n",
    "                   n_components=components)\n",
    "    print('for neighbors: {}. {:.3f} secs'.format(neighbors,time.time()-time_start))\n",
    "\n",
    "    "
   ]
  },
  {
   "cell_type": "code",
   "execution_count": null,
   "metadata": {},
   "outputs": [],
   "source": []
  }
 ],
 "metadata": {
  "file_extension": ".py",
  "kernelspec": {
   "display_name": "Python 3",
   "language": "python",
   "name": "python3"
  },
  "language_info": {
   "codemirror_mode": {
    "name": "ipython",
    "version": 3
   },
   "file_extension": ".py",
   "mimetype": "text/x-python",
   "name": "python",
   "nbconvert_exporter": "python",
   "pygments_lexer": "ipython3",
   "version": "3.6.9"
  },
  "mimetype": "text/x-python",
  "name": "python",
  "npconvert_exporter": "python",
  "pygments_lexer": "ipython3",
  "version": 3
 },
 "nbformat": 4,
 "nbformat_minor": 4
}
