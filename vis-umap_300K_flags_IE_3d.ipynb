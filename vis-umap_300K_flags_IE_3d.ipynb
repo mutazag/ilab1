{
 "cells": [
  {
   "cell_type": "markdown",
   "metadata": {},
   "source": [
    "# IE UMAP Visualisation of 300K (3D)\n",
    "\n",
    "\n",
    "UMAP with flags"
   ]
  },
  {
   "cell_type": "markdown",
   "metadata": {},
   "source": [
    "## Imports"
   ]
  },
  {
   "cell_type": "code",
   "execution_count": 1,
   "metadata": {},
   "outputs": [
    {
     "name": "stdout",
     "output_type": "stream",
     "text": [
      "3.6.9 (default, Jul  3 2019, 15:36:16) \n",
      "[GCC 5.4.0 20160609]\n"
     ]
    }
   ],
   "source": [
    "import sys \n",
    "import os\n",
    "import pathlib\n",
    "import time\n",
    "print(sys.version)"
   ]
  },
  {
   "cell_type": "code",
   "execution_count": 2,
   "metadata": {},
   "outputs": [
    {
     "name": "stdout",
     "output_type": "stream",
     "text": [
      "True\n",
      "/home/mutaz/ilab1\n",
      "['/usr/lib/python36.zip', '/usr/lib/python3.6', '/usr/lib/python3.6/lib-dynload', '', '/home/mutaz/.local/lib/python3.6/site-packages', '/usr/local/lib/python3.6/dist-packages', '/usr/lib/python3/dist-packages', '/home/mutaz/.local/lib/python3.6/site-packages/IPython/extensions', '/home/mutaz/.ipython', '../']\n"
     ]
    }
   ],
   "source": [
    "utils_path = pathlib.Path(os.getcwd() + '/utils')  # i suspect this one is not needed\n",
    "print(utils_path.exists())\n",
    "print(os.getcwd())\n",
    "#sys.path.append(str(utils_path))  # may not be necessary\n",
    "#sys.path.append(os.getcwd())  # i thnk this is the one that works \n",
    "sys.path.append('../') # this one is one level up so we can see the utils lib\n",
    "print(sys.path)"
   ]
  },
  {
   "cell_type": "code",
   "execution_count": 3,
   "metadata": {},
   "outputs": [],
   "source": [
    "import numpy as np\n",
    "import sklearn\n",
    "from sklearn.datasets import load_iris, load_digits\n",
    "from sklearn.model_selection import train_test_split\n",
    "import matplotlib.pyplot as plt\n",
    "import seaborn as sns\n",
    "import pandas as pd\n",
    "\n",
    "from utils.data import Data\n",
    "from utils.config import Config"
   ]
  },
  {
   "cell_type": "code",
   "execution_count": 4,
   "metadata": {},
   "outputs": [],
   "source": [
    "import umap\n",
    "import numba"
   ]
  },
  {
   "cell_type": "markdown",
   "metadata": {},
   "source": [
    "## Read Data"
   ]
  },
  {
   "cell_type": "code",
   "execution_count": 5,
   "metadata": {},
   "outputs": [
    {
     "name": "stdout",
     "output_type": "stream",
     "text": [
      "set index\n",
      "time to load 8.74\n"
     ]
    }
   ],
   "source": [
    "d = Data()\n",
    "# v2 = True: loading the dataset with the con flag\n",
    "df = d.get300K_features(v2=True)"
   ]
  },
  {
   "cell_type": "code",
   "execution_count": 6,
   "metadata": {},
   "outputs": [
    {
     "data": {
      "text/html": [
       "<div>\n",
       "<style scoped>\n",
       "    .dataframe tbody tr th:only-of-type {\n",
       "        vertical-align: middle;\n",
       "    }\n",
       "\n",
       "    .dataframe tbody tr th {\n",
       "        vertical-align: top;\n",
       "    }\n",
       "\n",
       "    .dataframe thead th {\n",
       "        text-align: right;\n",
       "    }\n",
       "</style>\n",
       "<table border=\"1\" class=\"dataframe\">\n",
       "  <thead>\n",
       "    <tr style=\"text-align: right;\">\n",
       "      <th></th>\n",
       "      <th>bilayer</th>\n",
       "      <th>monolayer1</th>\n",
       "      <th>monolayer2</th>\n",
       "      <th>IE</th>\n",
       "      <th>IE_error</th>\n",
       "      <th>IE_rel_error</th>\n",
       "      <th>C33</th>\n",
       "      <th>C33_error</th>\n",
       "      <th>C33_rel_err</th>\n",
       "      <th>Atom_EA_Min</th>\n",
       "      <th>...</th>\n",
       "      <th>Atom_Ratio_dHFus_SpeedSound_StDiv</th>\n",
       "      <th>EState_Topo_Ni_Zeff</th>\n",
       "      <th>EState_Topo_Pd_Zeff</th>\n",
       "      <th>EState_Topo_Te_dHAtom</th>\n",
       "      <th>Moment_SpeedSound_1</th>\n",
       "      <th>Moment_TCurie_1</th>\n",
       "      <th>SG187</th>\n",
       "      <th>commensurate</th>\n",
       "      <th>dft_ie</th>\n",
       "      <th>dft_c33</th>\n",
       "    </tr>\n",
       "    <tr>\n",
       "      <th>uid</th>\n",
       "      <th></th>\n",
       "      <th></th>\n",
       "      <th></th>\n",
       "      <th></th>\n",
       "      <th></th>\n",
       "      <th></th>\n",
       "      <th></th>\n",
       "      <th></th>\n",
       "      <th></th>\n",
       "      <th></th>\n",
       "      <th></th>\n",
       "      <th></th>\n",
       "      <th></th>\n",
       "      <th></th>\n",
       "      <th></th>\n",
       "      <th></th>\n",
       "      <th></th>\n",
       "      <th></th>\n",
       "      <th></th>\n",
       "      <th></th>\n",
       "      <th></th>\n",
       "    </tr>\n",
       "  </thead>\n",
       "  <tbody>\n",
       "    <tr>\n",
       "      <td>Hf3Te2_Mo1S2-T1</td>\n",
       "      <td>Hf3Te2_Mo1S2-T1</td>\n",
       "      <td>Hf3Te2</td>\n",
       "      <td>Mo1S2-T1</td>\n",
       "      <td>-0.698046</td>\n",
       "      <td>0.081306</td>\n",
       "      <td>0.058239</td>\n",
       "      <td>36.954759</td>\n",
       "      <td>6.369837</td>\n",
       "      <td>0.086184</td>\n",
       "      <td>0.05468</td>\n",
       "      <td>...</td>\n",
       "      <td>0.03793</td>\n",
       "      <td>0.0</td>\n",
       "      <td>0.0</td>\n",
       "      <td>197.0</td>\n",
       "      <td>0.78230</td>\n",
       "      <td>0.0</td>\n",
       "      <td>0</td>\n",
       "      <td>False</td>\n",
       "      <td>False</td>\n",
       "      <td>False</td>\n",
       "    </tr>\n",
       "    <tr>\n",
       "      <td>Hf3Te2_W1S2-T1</td>\n",
       "      <td>W1S2-T1_Hf3Te2</td>\n",
       "      <td>W1S2-T1</td>\n",
       "      <td>Hf3Te2</td>\n",
       "      <td>-0.677167</td>\n",
       "      <td>0.080142</td>\n",
       "      <td>0.059174</td>\n",
       "      <td>44.432743</td>\n",
       "      <td>7.523579</td>\n",
       "      <td>0.084663</td>\n",
       "      <td>0.05818</td>\n",
       "      <td>...</td>\n",
       "      <td>0.03793</td>\n",
       "      <td>0.0</td>\n",
       "      <td>0.0</td>\n",
       "      <td>197.0</td>\n",
       "      <td>0.78230</td>\n",
       "      <td>0.0</td>\n",
       "      <td>0</td>\n",
       "      <td>False</td>\n",
       "      <td>False</td>\n",
       "      <td>False</td>\n",
       "    </tr>\n",
       "    <tr>\n",
       "      <td>Cr1S2-T1_Hf3Te2</td>\n",
       "      <td>Hf3Te2_Cr1S2-T1</td>\n",
       "      <td>Hf3Te2</td>\n",
       "      <td>Cr1S2-T1</td>\n",
       "      <td>-0.661212</td>\n",
       "      <td>0.074767</td>\n",
       "      <td>0.056538</td>\n",
       "      <td>54.217246</td>\n",
       "      <td>11.076879</td>\n",
       "      <td>0.102153</td>\n",
       "      <td>0.05106</td>\n",
       "      <td>...</td>\n",
       "      <td>0.03793</td>\n",
       "      <td>0.0</td>\n",
       "      <td>0.0</td>\n",
       "      <td>197.0</td>\n",
       "      <td>2.43511</td>\n",
       "      <td>0.0</td>\n",
       "      <td>0</td>\n",
       "      <td>False</td>\n",
       "      <td>False</td>\n",
       "      <td>False</td>\n",
       "    </tr>\n",
       "    <tr>\n",
       "      <td>Ca2La2I10-T1_Ti2Ge2O6</td>\n",
       "      <td>Ti2Ge2O6_Ca2La2I10-T1</td>\n",
       "      <td>Ti2Ge2O6</td>\n",
       "      <td>Ca2La2I10-T1</td>\n",
       "      <td>-0.658413</td>\n",
       "      <td>0.117797</td>\n",
       "      <td>0.089456</td>\n",
       "      <td>49.623362</td>\n",
       "      <td>18.454026</td>\n",
       "      <td>0.185941</td>\n",
       "      <td>0.00526</td>\n",
       "      <td>...</td>\n",
       "      <td>0.09867</td>\n",
       "      <td>0.0</td>\n",
       "      <td>0.0</td>\n",
       "      <td>0.0</td>\n",
       "      <td>-4.56952</td>\n",
       "      <td>0.0</td>\n",
       "      <td>0</td>\n",
       "      <td>False</td>\n",
       "      <td>False</td>\n",
       "      <td>False</td>\n",
       "    </tr>\n",
       "    <tr>\n",
       "      <td>Ca2La2I10-T1_Ta3Te1I7</td>\n",
       "      <td>Ca2La2I10-T1_Ta3Te1I7</td>\n",
       "      <td>Ca2La2I10-T1</td>\n",
       "      <td>Ta3Te1I7</td>\n",
       "      <td>-0.657006</td>\n",
       "      <td>0.083776</td>\n",
       "      <td>0.063756</td>\n",
       "      <td>28.505406</td>\n",
       "      <td>4.794372</td>\n",
       "      <td>0.084096</td>\n",
       "      <td>0.01765</td>\n",
       "      <td>...</td>\n",
       "      <td>0.07947</td>\n",
       "      <td>0.0</td>\n",
       "      <td>0.0</td>\n",
       "      <td>197.0</td>\n",
       "      <td>-5.53334</td>\n",
       "      <td>0.0</td>\n",
       "      <td>0</td>\n",
       "      <td>False</td>\n",
       "      <td>False</td>\n",
       "      <td>False</td>\n",
       "    </tr>\n",
       "  </tbody>\n",
       "</table>\n",
       "<p>5 rows × 133 columns</p>\n",
       "</div>"
      ],
      "text/plain": [
       "                                     bilayer    monolayer1    monolayer2  \\\n",
       "uid                                                                        \n",
       "Hf3Te2_Mo1S2-T1              Hf3Te2_Mo1S2-T1        Hf3Te2      Mo1S2-T1   \n",
       "Hf3Te2_W1S2-T1                W1S2-T1_Hf3Te2       W1S2-T1        Hf3Te2   \n",
       "Cr1S2-T1_Hf3Te2              Hf3Te2_Cr1S2-T1        Hf3Te2      Cr1S2-T1   \n",
       "Ca2La2I10-T1_Ti2Ge2O6  Ti2Ge2O6_Ca2La2I10-T1      Ti2Ge2O6  Ca2La2I10-T1   \n",
       "Ca2La2I10-T1_Ta3Te1I7  Ca2La2I10-T1_Ta3Te1I7  Ca2La2I10-T1      Ta3Te1I7   \n",
       "\n",
       "                             IE  IE_error  IE_rel_error        C33  C33_error  \\\n",
       "uid                                                                             \n",
       "Hf3Te2_Mo1S2-T1       -0.698046  0.081306      0.058239  36.954759   6.369837   \n",
       "Hf3Te2_W1S2-T1        -0.677167  0.080142      0.059174  44.432743   7.523579   \n",
       "Cr1S2-T1_Hf3Te2       -0.661212  0.074767      0.056538  54.217246  11.076879   \n",
       "Ca2La2I10-T1_Ti2Ge2O6 -0.658413  0.117797      0.089456  49.623362  18.454026   \n",
       "Ca2La2I10-T1_Ta3Te1I7 -0.657006  0.083776      0.063756  28.505406   4.794372   \n",
       "\n",
       "                       C33_rel_err  Atom_EA_Min  ...  \\\n",
       "uid                                              ...   \n",
       "Hf3Te2_Mo1S2-T1           0.086184      0.05468  ...   \n",
       "Hf3Te2_W1S2-T1            0.084663      0.05818  ...   \n",
       "Cr1S2-T1_Hf3Te2           0.102153      0.05106  ...   \n",
       "Ca2La2I10-T1_Ti2Ge2O6     0.185941      0.00526  ...   \n",
       "Ca2La2I10-T1_Ta3Te1I7     0.084096      0.01765  ...   \n",
       "\n",
       "                       Atom_Ratio_dHFus_SpeedSound_StDiv  EState_Topo_Ni_Zeff  \\\n",
       "uid                                                                             \n",
       "Hf3Te2_Mo1S2-T1                                  0.03793                  0.0   \n",
       "Hf3Te2_W1S2-T1                                   0.03793                  0.0   \n",
       "Cr1S2-T1_Hf3Te2                                  0.03793                  0.0   \n",
       "Ca2La2I10-T1_Ti2Ge2O6                            0.09867                  0.0   \n",
       "Ca2La2I10-T1_Ta3Te1I7                            0.07947                  0.0   \n",
       "\n",
       "                       EState_Topo_Pd_Zeff  EState_Topo_Te_dHAtom  \\\n",
       "uid                                                                 \n",
       "Hf3Te2_Mo1S2-T1                        0.0                  197.0   \n",
       "Hf3Te2_W1S2-T1                         0.0                  197.0   \n",
       "Cr1S2-T1_Hf3Te2                        0.0                  197.0   \n",
       "Ca2La2I10-T1_Ti2Ge2O6                  0.0                    0.0   \n",
       "Ca2La2I10-T1_Ta3Te1I7                  0.0                  197.0   \n",
       "\n",
       "                       Moment_SpeedSound_1  Moment_TCurie_1  SG187  \\\n",
       "uid                                                                  \n",
       "Hf3Te2_Mo1S2-T1                    0.78230              0.0      0   \n",
       "Hf3Te2_W1S2-T1                     0.78230              0.0      0   \n",
       "Cr1S2-T1_Hf3Te2                    2.43511              0.0      0   \n",
       "Ca2La2I10-T1_Ti2Ge2O6             -4.56952              0.0      0   \n",
       "Ca2La2I10-T1_Ta3Te1I7             -5.53334              0.0      0   \n",
       "\n",
       "                       commensurate  dft_ie  dft_c33  \n",
       "uid                                                   \n",
       "Hf3Te2_Mo1S2-T1               False   False    False  \n",
       "Hf3Te2_W1S2-T1                False   False    False  \n",
       "Cr1S2-T1_Hf3Te2               False   False    False  \n",
       "Ca2La2I10-T1_Ti2Ge2O6         False   False    False  \n",
       "Ca2La2I10-T1_Ta3Te1I7         False   False    False  \n",
       "\n",
       "[5 rows x 133 columns]"
      ]
     },
     "execution_count": 6,
     "metadata": {},
     "output_type": "execute_result"
    }
   ],
   "source": [
    "df.head()"
   ]
  },
  {
   "cell_type": "markdown",
   "metadata": {},
   "source": [
    "### get descriptors column names"
   ]
  },
  {
   "cell_type": "code",
   "execution_count": 7,
   "metadata": {},
   "outputs": [],
   "source": [
    "feature_cols = d.getDescriptorsColumnNames_IE()"
   ]
  },
  {
   "cell_type": "markdown",
   "metadata": {},
   "source": [
    "## sampling bilayers"
   ]
  },
  {
   "cell_type": "code",
   "execution_count": 8,
   "metadata": {},
   "outputs": [],
   "source": [
    "n = df.shape[0]\n",
    "df_features = df.sample(n=n)\n",
    "\n"
   ]
  },
  {
   "cell_type": "markdown",
   "metadata": {},
   "source": [
    "# UMAP"
   ]
  },
  {
   "cell_type": "markdown",
   "metadata": {
    "toc-hr-collapsed": false
   },
   "source": [
    "## umap_fit function"
   ]
  },
  {
   "cell_type": "code",
   "execution_count": 9,
   "metadata": {},
   "outputs": [],
   "source": [
    "# call with df_features[feature_cols]\n",
    "# labels_df has two columns C33 and communsurate \n",
    "\n",
    "def umap_fit(df, labels_df, \n",
    "             plot_df_filename, \n",
    "             index_name='uid', \n",
    "             n_neighbors = 15, \n",
    "             n_components = 2, \n",
    "             min_dist = 0.1, \n",
    "             metric = 'euclidean'):\n",
    "    \n",
    "    reducer = umap.UMAP(n_neighbors=n_neighbors,\n",
    "                        n_components=n_components,\n",
    "                        min_dist=min_dist,\n",
    "                        metric=metric,\n",
    "                        random_state=50\n",
    "                       )\n",
    "    \n",
    "    embeddings = reducer.fit_transform(df)\n",
    "    embeddings_df = pd.DataFrame(embeddings, columns={'x','y'})\n",
    "    label1_name = labels_df.columns[0]\n",
    "    label2_name = labels_df.columns[1]\n",
    "    label3_name = labels_df.columns[2]\n",
    "    label4_name = labels_df.columns[3]\n",
    "    \n",
    "    plot_df = pd.concat([embeddings_df, labels_df], \n",
    "              axis=1, \n",
    "              ignore_index=False)\n",
    "    \n",
    "    plot_df.set_index(index_name, inplace=True)\n",
    "    \n",
    "    plot_df.to_csv(Config().get_datapath(plot_df_filename))\n",
    "    \n",
    "    return(plot_df)"
   ]
  },
  {
   "cell_type": "markdown",
   "metadata": {},
   "source": [
    "### Test with a small sample"
   ]
  },
  {
   "cell_type": "code",
   "execution_count": 10,
   "metadata": {},
   "outputs": [
    {
     "name": "stderr",
     "output_type": "stream",
     "text": [
      "/home/mutaz/.local/lib/python3.6/site-packages/numba/typed_passes.py:271: NumbaPerformanceWarning: \n",
      "The keyword argument 'parallel=True' was specified but no transformation for parallel execution was possible.\n",
      "\n",
      "To find out why, try turning on parallel diagnostics, see http://numba.pydata.org/numba-doc/latest/user/parallel.html#diagnostics for help.\n",
      "\n",
      "File \"../.local/lib/python3.6/site-packages/umap/rp_tree.py\", line 135:\n",
      "@numba.njit(fastmath=True, nogil=True, parallel=True)\n",
      "def euclidean_random_projection_split(data, indices, rng_state):\n",
      "^\n",
      "\n",
      "  state.func_ir.loc))\n",
      "/home/mutaz/.local/lib/python3.6/site-packages/umap/nndescent.py:92: NumbaPerformanceWarning: \n",
      "The keyword argument 'parallel=True' was specified but no transformation for parallel execution was possible.\n",
      "\n",
      "To find out why, try turning on parallel diagnostics, see http://numba.pydata.org/numba-doc/latest/user/parallel.html#diagnostics for help.\n",
      "\n",
      "File \"../.local/lib/python3.6/site-packages/umap/utils.py\", line 409:\n",
      "@numba.njit(parallel=True)\n",
      "def build_candidates(current_graph, n_vertices, n_neighbors, max_candidates, rng_state):\n",
      "^\n",
      "\n",
      "  current_graph, n_vertices, n_neighbors, max_candidates, rng_state\n",
      "/home/mutaz/.local/lib/python3.6/site-packages/numba/typed_passes.py:271: NumbaPerformanceWarning: \n",
      "The keyword argument 'parallel=True' was specified but no transformation for parallel execution was possible.\n",
      "\n",
      "To find out why, try turning on parallel diagnostics, see http://numba.pydata.org/numba-doc/latest/user/parallel.html#diagnostics for help.\n",
      "\n",
      "File \"../.local/lib/python3.6/site-packages/umap/nndescent.py\", line 47:\n",
      "    @numba.njit(parallel=True)\n",
      "    def nn_descent(\n",
      "    ^\n",
      "\n",
      "  state.func_ir.loc))\n",
      "/home/mutaz/.local/lib/python3.6/site-packages/umap/spectral.py:229: UserWarning: Embedding a total of 2 separate connected components using meta-embedding (experimental)\n",
      "  n_components\n"
     ]
    },
    {
     "ename": "ValueError",
     "evalue": "Shape of passed values is (10000, 3), indices imply (10000, 2)",
     "output_type": "error",
     "traceback": [
      "\u001b[0;31m---------------------------------------------------------------------------\u001b[0m",
      "\u001b[0;31mValueError\u001b[0m                                Traceback (most recent call last)",
      "\u001b[0;32m~/.local/lib/python3.6/site-packages/pandas/core/internals/managers.py\u001b[0m in \u001b[0;36mcreate_block_manager_from_blocks\u001b[0;34m(blocks, axes)\u001b[0m\n\u001b[1;32m   1677\u001b[0m                 blocks = [\n\u001b[0;32m-> 1678\u001b[0;31m                     \u001b[0mmake_block\u001b[0m\u001b[0;34m(\u001b[0m\u001b[0mvalues\u001b[0m\u001b[0;34m=\u001b[0m\u001b[0mblocks\u001b[0m\u001b[0;34m[\u001b[0m\u001b[0;36m0\u001b[0m\u001b[0;34m]\u001b[0m\u001b[0;34m,\u001b[0m \u001b[0mplacement\u001b[0m\u001b[0;34m=\u001b[0m\u001b[0mslice\u001b[0m\u001b[0;34m(\u001b[0m\u001b[0;36m0\u001b[0m\u001b[0;34m,\u001b[0m \u001b[0mlen\u001b[0m\u001b[0;34m(\u001b[0m\u001b[0maxes\u001b[0m\u001b[0;34m[\u001b[0m\u001b[0;36m0\u001b[0m\u001b[0;34m]\u001b[0m\u001b[0;34m)\u001b[0m\u001b[0;34m)\u001b[0m\u001b[0;34m)\u001b[0m\u001b[0;34m\u001b[0m\u001b[0;34m\u001b[0m\u001b[0m\n\u001b[0m\u001b[1;32m   1679\u001b[0m                 ]\n",
      "\u001b[0;32m~/.local/lib/python3.6/site-packages/pandas/core/internals/blocks.py\u001b[0m in \u001b[0;36mmake_block\u001b[0;34m(values, placement, klass, ndim, dtype, fastpath)\u001b[0m\n\u001b[1;32m   3266\u001b[0m \u001b[0;34m\u001b[0m\u001b[0m\n\u001b[0;32m-> 3267\u001b[0;31m     \u001b[0;32mreturn\u001b[0m \u001b[0mklass\u001b[0m\u001b[0;34m(\u001b[0m\u001b[0mvalues\u001b[0m\u001b[0;34m,\u001b[0m \u001b[0mndim\u001b[0m\u001b[0;34m=\u001b[0m\u001b[0mndim\u001b[0m\u001b[0;34m,\u001b[0m \u001b[0mplacement\u001b[0m\u001b[0;34m=\u001b[0m\u001b[0mplacement\u001b[0m\u001b[0;34m)\u001b[0m\u001b[0;34m\u001b[0m\u001b[0;34m\u001b[0m\u001b[0m\n\u001b[0m\u001b[1;32m   3268\u001b[0m \u001b[0;34m\u001b[0m\u001b[0m\n",
      "\u001b[0;32m~/.local/lib/python3.6/site-packages/pandas/core/internals/blocks.py\u001b[0m in \u001b[0;36m__init__\u001b[0;34m(self, values, placement, ndim)\u001b[0m\n\u001b[1;32m    127\u001b[0m                 \u001b[0;34m\"Wrong number of items passed {val}, placement implies \"\u001b[0m\u001b[0;34m\u001b[0m\u001b[0;34m\u001b[0m\u001b[0m\n\u001b[0;32m--> 128\u001b[0;31m                 \u001b[0;34m\"{mgr}\"\u001b[0m\u001b[0;34m.\u001b[0m\u001b[0mformat\u001b[0m\u001b[0;34m(\u001b[0m\u001b[0mval\u001b[0m\u001b[0;34m=\u001b[0m\u001b[0mlen\u001b[0m\u001b[0;34m(\u001b[0m\u001b[0mself\u001b[0m\u001b[0;34m.\u001b[0m\u001b[0mvalues\u001b[0m\u001b[0;34m)\u001b[0m\u001b[0;34m,\u001b[0m \u001b[0mmgr\u001b[0m\u001b[0;34m=\u001b[0m\u001b[0mlen\u001b[0m\u001b[0;34m(\u001b[0m\u001b[0mself\u001b[0m\u001b[0;34m.\u001b[0m\u001b[0mmgr_locs\u001b[0m\u001b[0;34m)\u001b[0m\u001b[0;34m)\u001b[0m\u001b[0;34m\u001b[0m\u001b[0;34m\u001b[0m\u001b[0m\n\u001b[0m\u001b[1;32m    129\u001b[0m             )\n",
      "\u001b[0;31mValueError\u001b[0m: Wrong number of items passed 3, placement implies 2",
      "\nDuring handling of the above exception, another exception occurred:\n",
      "\u001b[0;31mValueError\u001b[0m                                Traceback (most recent call last)",
      "\u001b[0;32m<ipython-input-10-a4a008aca943>\u001b[0m in \u001b[0;36m<module>\u001b[0;34m\u001b[0m\n\u001b[1;32m     10\u001b[0m                    \u001b[0mplot_df_filename\u001b[0m\u001b[0;34m=\u001b[0m\u001b[0mfilename\u001b[0m\u001b[0;34m,\u001b[0m\u001b[0;34m\u001b[0m\u001b[0;34m\u001b[0m\u001b[0m\n\u001b[1;32m     11\u001b[0m                    \u001b[0mn_neighbors\u001b[0m\u001b[0;34m=\u001b[0m\u001b[0mneighbors\u001b[0m\u001b[0;34m,\u001b[0m\u001b[0;34m\u001b[0m\u001b[0;34m\u001b[0m\u001b[0m\n\u001b[0;32m---> 12\u001b[0;31m                    n_components=components)\n\u001b[0m",
      "\u001b[0;32m<ipython-input-9-a69b17216a59>\u001b[0m in \u001b[0;36mumap_fit\u001b[0;34m(df, labels_df, plot_df_filename, index_name, n_neighbors, n_components, min_dist, metric)\u001b[0m\n\u001b[1;32m     18\u001b[0m \u001b[0;34m\u001b[0m\u001b[0m\n\u001b[1;32m     19\u001b[0m     \u001b[0membeddings\u001b[0m \u001b[0;34m=\u001b[0m \u001b[0mreducer\u001b[0m\u001b[0;34m.\u001b[0m\u001b[0mfit_transform\u001b[0m\u001b[0;34m(\u001b[0m\u001b[0mdf\u001b[0m\u001b[0;34m)\u001b[0m\u001b[0;34m\u001b[0m\u001b[0;34m\u001b[0m\u001b[0m\n\u001b[0;32m---> 20\u001b[0;31m     \u001b[0membeddings_df\u001b[0m \u001b[0;34m=\u001b[0m \u001b[0mpd\u001b[0m\u001b[0;34m.\u001b[0m\u001b[0mDataFrame\u001b[0m\u001b[0;34m(\u001b[0m\u001b[0membeddings\u001b[0m\u001b[0;34m,\u001b[0m \u001b[0mcolumns\u001b[0m\u001b[0;34m=\u001b[0m\u001b[0;34m{\u001b[0m\u001b[0;34m'x'\u001b[0m\u001b[0;34m,\u001b[0m\u001b[0;34m'y'\u001b[0m\u001b[0;34m}\u001b[0m\u001b[0;34m)\u001b[0m\u001b[0;34m\u001b[0m\u001b[0;34m\u001b[0m\u001b[0m\n\u001b[0m\u001b[1;32m     21\u001b[0m     \u001b[0mlabel1_name\u001b[0m \u001b[0;34m=\u001b[0m \u001b[0mlabels_df\u001b[0m\u001b[0;34m.\u001b[0m\u001b[0mcolumns\u001b[0m\u001b[0;34m[\u001b[0m\u001b[0;36m0\u001b[0m\u001b[0;34m]\u001b[0m\u001b[0;34m\u001b[0m\u001b[0;34m\u001b[0m\u001b[0m\n\u001b[1;32m     22\u001b[0m     \u001b[0mlabel2_name\u001b[0m \u001b[0;34m=\u001b[0m \u001b[0mlabels_df\u001b[0m\u001b[0;34m.\u001b[0m\u001b[0mcolumns\u001b[0m\u001b[0;34m[\u001b[0m\u001b[0;36m1\u001b[0m\u001b[0;34m]\u001b[0m\u001b[0;34m\u001b[0m\u001b[0;34m\u001b[0m\u001b[0m\n",
      "\u001b[0;32m~/.local/lib/python3.6/site-packages/pandas/core/frame.py\u001b[0m in \u001b[0;36m__init__\u001b[0;34m(self, data, index, columns, dtype, copy)\u001b[0m\n\u001b[1;32m    438\u001b[0m                 \u001b[0mmgr\u001b[0m \u001b[0;34m=\u001b[0m \u001b[0minit_dict\u001b[0m\u001b[0;34m(\u001b[0m\u001b[0;34m{\u001b[0m\u001b[0mdata\u001b[0m\u001b[0;34m.\u001b[0m\u001b[0mname\u001b[0m\u001b[0;34m:\u001b[0m \u001b[0mdata\u001b[0m\u001b[0;34m}\u001b[0m\u001b[0;34m,\u001b[0m \u001b[0mindex\u001b[0m\u001b[0;34m,\u001b[0m \u001b[0mcolumns\u001b[0m\u001b[0;34m,\u001b[0m \u001b[0mdtype\u001b[0m\u001b[0;34m=\u001b[0m\u001b[0mdtype\u001b[0m\u001b[0;34m)\u001b[0m\u001b[0;34m\u001b[0m\u001b[0;34m\u001b[0m\u001b[0m\n\u001b[1;32m    439\u001b[0m             \u001b[0;32melse\u001b[0m\u001b[0;34m:\u001b[0m\u001b[0;34m\u001b[0m\u001b[0;34m\u001b[0m\u001b[0m\n\u001b[0;32m--> 440\u001b[0;31m                 \u001b[0mmgr\u001b[0m \u001b[0;34m=\u001b[0m \u001b[0minit_ndarray\u001b[0m\u001b[0;34m(\u001b[0m\u001b[0mdata\u001b[0m\u001b[0;34m,\u001b[0m \u001b[0mindex\u001b[0m\u001b[0;34m,\u001b[0m \u001b[0mcolumns\u001b[0m\u001b[0;34m,\u001b[0m \u001b[0mdtype\u001b[0m\u001b[0;34m=\u001b[0m\u001b[0mdtype\u001b[0m\u001b[0;34m,\u001b[0m \u001b[0mcopy\u001b[0m\u001b[0;34m=\u001b[0m\u001b[0mcopy\u001b[0m\u001b[0;34m)\u001b[0m\u001b[0;34m\u001b[0m\u001b[0;34m\u001b[0m\u001b[0m\n\u001b[0m\u001b[1;32m    441\u001b[0m \u001b[0;34m\u001b[0m\u001b[0m\n\u001b[1;32m    442\u001b[0m         \u001b[0;31m# For data is list-like, or Iterable (will consume into list)\u001b[0m\u001b[0;34m\u001b[0m\u001b[0;34m\u001b[0m\u001b[0;34m\u001b[0m\u001b[0m\n",
      "\u001b[0;32m~/.local/lib/python3.6/site-packages/pandas/core/internals/construction.py\u001b[0m in \u001b[0;36minit_ndarray\u001b[0;34m(values, index, columns, dtype, copy)\u001b[0m\n\u001b[1;32m    211\u001b[0m         \u001b[0mblock_values\u001b[0m \u001b[0;34m=\u001b[0m \u001b[0;34m[\u001b[0m\u001b[0mvalues\u001b[0m\u001b[0;34m]\u001b[0m\u001b[0;34m\u001b[0m\u001b[0;34m\u001b[0m\u001b[0m\n\u001b[1;32m    212\u001b[0m \u001b[0;34m\u001b[0m\u001b[0m\n\u001b[0;32m--> 213\u001b[0;31m     \u001b[0;32mreturn\u001b[0m \u001b[0mcreate_block_manager_from_blocks\u001b[0m\u001b[0;34m(\u001b[0m\u001b[0mblock_values\u001b[0m\u001b[0;34m,\u001b[0m \u001b[0;34m[\u001b[0m\u001b[0mcolumns\u001b[0m\u001b[0;34m,\u001b[0m \u001b[0mindex\u001b[0m\u001b[0;34m]\u001b[0m\u001b[0;34m)\u001b[0m\u001b[0;34m\u001b[0m\u001b[0;34m\u001b[0m\u001b[0m\n\u001b[0m\u001b[1;32m    214\u001b[0m \u001b[0;34m\u001b[0m\u001b[0m\n\u001b[1;32m    215\u001b[0m \u001b[0;34m\u001b[0m\u001b[0m\n",
      "\u001b[0;32m~/.local/lib/python3.6/site-packages/pandas/core/internals/managers.py\u001b[0m in \u001b[0;36mcreate_block_manager_from_blocks\u001b[0;34m(blocks, axes)\u001b[0m\n\u001b[1;32m   1686\u001b[0m         \u001b[0mblocks\u001b[0m \u001b[0;34m=\u001b[0m \u001b[0;34m[\u001b[0m\u001b[0mgetattr\u001b[0m\u001b[0;34m(\u001b[0m\u001b[0mb\u001b[0m\u001b[0;34m,\u001b[0m \u001b[0;34m\"values\"\u001b[0m\u001b[0;34m,\u001b[0m \u001b[0mb\u001b[0m\u001b[0;34m)\u001b[0m \u001b[0;32mfor\u001b[0m \u001b[0mb\u001b[0m \u001b[0;32min\u001b[0m \u001b[0mblocks\u001b[0m\u001b[0;34m]\u001b[0m\u001b[0;34m\u001b[0m\u001b[0;34m\u001b[0m\u001b[0m\n\u001b[1;32m   1687\u001b[0m         \u001b[0mtot_items\u001b[0m \u001b[0;34m=\u001b[0m \u001b[0msum\u001b[0m\u001b[0;34m(\u001b[0m\u001b[0mb\u001b[0m\u001b[0;34m.\u001b[0m\u001b[0mshape\u001b[0m\u001b[0;34m[\u001b[0m\u001b[0;36m0\u001b[0m\u001b[0;34m]\u001b[0m \u001b[0;32mfor\u001b[0m \u001b[0mb\u001b[0m \u001b[0;32min\u001b[0m \u001b[0mblocks\u001b[0m\u001b[0;34m)\u001b[0m\u001b[0;34m\u001b[0m\u001b[0;34m\u001b[0m\u001b[0m\n\u001b[0;32m-> 1688\u001b[0;31m         \u001b[0mconstruction_error\u001b[0m\u001b[0;34m(\u001b[0m\u001b[0mtot_items\u001b[0m\u001b[0;34m,\u001b[0m \u001b[0mblocks\u001b[0m\u001b[0;34m[\u001b[0m\u001b[0;36m0\u001b[0m\u001b[0;34m]\u001b[0m\u001b[0;34m.\u001b[0m\u001b[0mshape\u001b[0m\u001b[0;34m[\u001b[0m\u001b[0;36m1\u001b[0m\u001b[0;34m:\u001b[0m\u001b[0;34m]\u001b[0m\u001b[0;34m,\u001b[0m \u001b[0maxes\u001b[0m\u001b[0;34m,\u001b[0m \u001b[0me\u001b[0m\u001b[0;34m)\u001b[0m\u001b[0;34m\u001b[0m\u001b[0;34m\u001b[0m\u001b[0m\n\u001b[0m\u001b[1;32m   1689\u001b[0m \u001b[0;34m\u001b[0m\u001b[0m\n\u001b[1;32m   1690\u001b[0m \u001b[0;34m\u001b[0m\u001b[0m\n",
      "\u001b[0;32m~/.local/lib/python3.6/site-packages/pandas/core/internals/managers.py\u001b[0m in \u001b[0;36mconstruction_error\u001b[0;34m(tot_items, block_shape, axes, e)\u001b[0m\n\u001b[1;32m   1717\u001b[0m         \u001b[0;32mraise\u001b[0m \u001b[0mValueError\u001b[0m\u001b[0;34m(\u001b[0m\u001b[0;34m\"Empty data passed with indices specified.\"\u001b[0m\u001b[0;34m)\u001b[0m\u001b[0;34m\u001b[0m\u001b[0;34m\u001b[0m\u001b[0m\n\u001b[1;32m   1718\u001b[0m     raise ValueError(\n\u001b[0;32m-> 1719\u001b[0;31m         \u001b[0;34m\"Shape of passed values is {0}, indices imply {1}\"\u001b[0m\u001b[0;34m.\u001b[0m\u001b[0mformat\u001b[0m\u001b[0;34m(\u001b[0m\u001b[0mpassed\u001b[0m\u001b[0;34m,\u001b[0m \u001b[0mimplied\u001b[0m\u001b[0;34m)\u001b[0m\u001b[0;34m\u001b[0m\u001b[0;34m\u001b[0m\u001b[0m\n\u001b[0m\u001b[1;32m   1720\u001b[0m     )\n\u001b[1;32m   1721\u001b[0m \u001b[0;34m\u001b[0m\u001b[0m\n",
      "\u001b[0;31mValueError\u001b[0m: Shape of passed values is (10000, 3), indices imply (10000, 2)"
     ]
    }
   ],
   "source": [
    "n = 10000\n",
    "neighbors = 40\n",
    "components = 3\n",
    "\n",
    "df_features = df.sample(n=n)\n",
    "filename_pattern = 'umap_300Kdf_{}_{}_{}_{}_flags.csv'\n",
    "filename = filename_pattern.format('IE',n,neighbors, components)\n",
    "plot_df = umap_fit(df=df_features[feature_cols],\n",
    "                   labels_df=df_features[['IE','commensurate', 'dft_ie', 'dft_c33']].reset_index(), \n",
    "                   plot_df_filename=filename,\n",
    "                   n_neighbors=neighbors, \n",
    "                   n_components=components)"
   ]
  },
  {
   "cell_type": "code",
   "execution_count": null,
   "metadata": {},
   "outputs": [],
   "source": [
    "plot_df[plot_df.dft_ie == True]"
   ]
  },
  {
   "cell_type": "markdown",
   "metadata": {},
   "source": [
    "# Generate Umap plot dfs "
   ]
  },
  {
   "cell_type": "code",
   "execution_count": null,
   "metadata": {},
   "outputs": [],
   "source": [
    "n = df.shape[0]\n",
    "neighbors_list = [40]\n",
    "components = 2\n",
    "\n",
    "df_features = df.sample(n=n)\n",
    "filename_pattern = 'umap_300Kdf_{}_{}_{}_{}_flags.csv'"
   ]
  },
  {
   "cell_type": "code",
   "execution_count": null,
   "metadata": {},
   "outputs": [],
   "source": [
    "for neighbors in neighbors_list: \n",
    "    time_start = time.time()\n",
    "    filename = filename_pattern.format('IE',n,neighbors, components)\n",
    "    print(f'prep for filename: {filename}')\n",
    "    plot_df = umap_fit(df=df_features[feature_cols],\n",
    "                   labels_df=df_features[['IE','commensurate', 'dft_ie', 'dft_ie']].reset_index(), \n",
    "                   plot_df_filename=filename,\n",
    "                   n_neighbors=neighbors, \n",
    "                   n_components=components)\n",
    "    print('for neighbors: {}. {:.3f} secs'.format(neighbors,time.time()-time_start))\n",
    "\n",
    "    "
   ]
  },
  {
   "cell_type": "code",
   "execution_count": null,
   "metadata": {},
   "outputs": [],
   "source": [
    "#umap_300Kdf_IE_10000_40_2_flags"
   ]
  },
  {
   "cell_type": "markdown",
   "metadata": {},
   "source": [
    "# Plot 3d"
   ]
  },
  {
   "cell_type": "code",
   "execution_count": null,
   "metadata": {},
   "outputs": [],
   "source": [
    "    "
   ]
  }
 ],
 "metadata": {
  "file_extension": ".py",
  "kernelspec": {
   "display_name": "Python 3",
   "language": "python",
   "name": "python3"
  },
  "language_info": {
   "codemirror_mode": {
    "name": "ipython",
    "version": 3
   },
   "file_extension": ".py",
   "mimetype": "text/x-python",
   "name": "python",
   "nbconvert_exporter": "python",
   "pygments_lexer": "ipython3",
   "version": "3.6.9"
  },
  "mimetype": "text/x-python",
  "name": "python",
  "npconvert_exporter": "python",
  "pygments_lexer": "ipython3",
  "version": 3
 },
 "nbformat": 4,
 "nbformat_minor": 4
}
