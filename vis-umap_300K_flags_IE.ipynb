{
 "cells": [
  {
   "cell_type": "markdown",
   "metadata": {},
   "source": [
    "# IE UMAP Visualisation of 300K \n",
    "\n",
    "UMAP with flags"
   ]
  },
  {
   "cell_type": "markdown",
   "metadata": {},
   "source": [
    "## Imports"
   ]
  },
  {
   "cell_type": "code",
   "execution_count": 1,
   "metadata": {},
   "outputs": [
    {
     "name": "stdout",
     "output_type": "stream",
     "text": [
      "3.6.9 (default, Jul  3 2019, 15:36:16) \n",
      "[GCC 5.4.0 20160609]\n"
     ]
    }
   ],
   "source": [
    "import sys \n",
    "import os\n",
    "import pathlib\n",
    "import time\n",
    "print(sys.version)"
   ]
  },
  {
   "cell_type": "code",
   "execution_count": 2,
   "metadata": {},
   "outputs": [
    {
     "name": "stdout",
     "output_type": "stream",
     "text": [
      "True\n",
      "/home/mutaz/ilab1\n",
      "['/usr/lib/python36.zip', '/usr/lib/python3.6', '/usr/lib/python3.6/lib-dynload', '', '/home/mutaz/.local/lib/python3.6/site-packages', '/usr/local/lib/python3.6/dist-packages', '/usr/lib/python3/dist-packages', '/home/mutaz/.local/lib/python3.6/site-packages/IPython/extensions', '/home/mutaz/.ipython', '../']\n"
     ]
    }
   ],
   "source": [
    "utils_path = pathlib.Path(os.getcwd() + '/utils')  # i suspect this one is not needed\n",
    "print(utils_path.exists())\n",
    "print(os.getcwd())\n",
    "#sys.path.append(str(utils_path))  # may not be necessary\n",
    "#sys.path.append(os.getcwd())  # i thnk this is the one that works \n",
    "sys.path.append('../') # this one is one level up so we can see the utils lib\n",
    "print(sys.path)"
   ]
  },
  {
   "cell_type": "code",
   "execution_count": 3,
   "metadata": {},
   "outputs": [],
   "source": [
    "import numpy as np\n",
    "import sklearn\n",
    "from sklearn.datasets import load_iris, load_digits\n",
    "from sklearn.model_selection import train_test_split\n",
    "import matplotlib.pyplot as plt\n",
    "import seaborn as sns\n",
    "import pandas as pd\n",
    "\n",
    "from utils.data import Data\n",
    "from utils.config import Config"
   ]
  },
  {
   "cell_type": "code",
   "execution_count": 4,
   "metadata": {},
   "outputs": [],
   "source": [
    "import umap\n",
    "import numba"
   ]
  },
  {
   "cell_type": "markdown",
   "metadata": {},
   "source": [
    "## Read Data"
   ]
  },
  {
   "cell_type": "code",
   "execution_count": 5,
   "metadata": {},
   "outputs": [
    {
     "name": "stdout",
     "output_type": "stream",
     "text": [
      "set index\n",
      "time to load 15.22\n"
     ]
    }
   ],
   "source": [
    "d = Data()\n",
    "# v2 = True: loading the dataset with the con flag\n",
    "df = d.get300K_features(v2=True)"
   ]
  },
  {
   "cell_type": "code",
   "execution_count": 6,
   "metadata": {},
   "outputs": [
    {
     "data": {
      "text/html": [
       "<div>\n",
       "<style scoped>\n",
       "    .dataframe tbody tr th:only-of-type {\n",
       "        vertical-align: middle;\n",
       "    }\n",
       "\n",
       "    .dataframe tbody tr th {\n",
       "        vertical-align: top;\n",
       "    }\n",
       "\n",
       "    .dataframe thead th {\n",
       "        text-align: right;\n",
       "    }\n",
       "</style>\n",
       "<table border=\"1\" class=\"dataframe\">\n",
       "  <thead>\n",
       "    <tr style=\"text-align: right;\">\n",
       "      <th></th>\n",
       "      <th>bilayer</th>\n",
       "      <th>monolayer1</th>\n",
       "      <th>monolayer2</th>\n",
       "      <th>IE</th>\n",
       "      <th>IE_error</th>\n",
       "      <th>IE_rel_error</th>\n",
       "      <th>C33</th>\n",
       "      <th>C33_error</th>\n",
       "      <th>C33_rel_err</th>\n",
       "      <th>Atom_EA_Min</th>\n",
       "      <th>...</th>\n",
       "      <th>Atom_Ratio_dHFus_SpeedSound_StDiv</th>\n",
       "      <th>EState_Topo_Ni_Zeff</th>\n",
       "      <th>EState_Topo_Pd_Zeff</th>\n",
       "      <th>EState_Topo_Te_dHAtom</th>\n",
       "      <th>Moment_SpeedSound_1</th>\n",
       "      <th>Moment_TCurie_1</th>\n",
       "      <th>SG187</th>\n",
       "      <th>commensurate</th>\n",
       "      <th>dft_ie</th>\n",
       "      <th>dft_c33</th>\n",
       "    </tr>\n",
       "    <tr>\n",
       "      <th>uid</th>\n",
       "      <th></th>\n",
       "      <th></th>\n",
       "      <th></th>\n",
       "      <th></th>\n",
       "      <th></th>\n",
       "      <th></th>\n",
       "      <th></th>\n",
       "      <th></th>\n",
       "      <th></th>\n",
       "      <th></th>\n",
       "      <th></th>\n",
       "      <th></th>\n",
       "      <th></th>\n",
       "      <th></th>\n",
       "      <th></th>\n",
       "      <th></th>\n",
       "      <th></th>\n",
       "      <th></th>\n",
       "      <th></th>\n",
       "      <th></th>\n",
       "      <th></th>\n",
       "    </tr>\n",
       "  </thead>\n",
       "  <tbody>\n",
       "    <tr>\n",
       "      <td>Hf3Te2_Mo1S2-T1</td>\n",
       "      <td>Hf3Te2_Mo1S2-T1</td>\n",
       "      <td>Hf3Te2</td>\n",
       "      <td>Mo1S2-T1</td>\n",
       "      <td>-0.698046</td>\n",
       "      <td>0.081306</td>\n",
       "      <td>0.058239</td>\n",
       "      <td>36.954759</td>\n",
       "      <td>6.369837</td>\n",
       "      <td>0.086184</td>\n",
       "      <td>0.05468</td>\n",
       "      <td>...</td>\n",
       "      <td>0.03793</td>\n",
       "      <td>0.0</td>\n",
       "      <td>0.0</td>\n",
       "      <td>197.0</td>\n",
       "      <td>0.78230</td>\n",
       "      <td>0.0</td>\n",
       "      <td>0</td>\n",
       "      <td>False</td>\n",
       "      <td>False</td>\n",
       "      <td>False</td>\n",
       "    </tr>\n",
       "    <tr>\n",
       "      <td>Hf3Te2_W1S2-T1</td>\n",
       "      <td>W1S2-T1_Hf3Te2</td>\n",
       "      <td>W1S2-T1</td>\n",
       "      <td>Hf3Te2</td>\n",
       "      <td>-0.677167</td>\n",
       "      <td>0.080142</td>\n",
       "      <td>0.059174</td>\n",
       "      <td>44.432743</td>\n",
       "      <td>7.523579</td>\n",
       "      <td>0.084663</td>\n",
       "      <td>0.05818</td>\n",
       "      <td>...</td>\n",
       "      <td>0.03793</td>\n",
       "      <td>0.0</td>\n",
       "      <td>0.0</td>\n",
       "      <td>197.0</td>\n",
       "      <td>0.78230</td>\n",
       "      <td>0.0</td>\n",
       "      <td>0</td>\n",
       "      <td>False</td>\n",
       "      <td>False</td>\n",
       "      <td>False</td>\n",
       "    </tr>\n",
       "    <tr>\n",
       "      <td>Cr1S2-T1_Hf3Te2</td>\n",
       "      <td>Hf3Te2_Cr1S2-T1</td>\n",
       "      <td>Hf3Te2</td>\n",
       "      <td>Cr1S2-T1</td>\n",
       "      <td>-0.661212</td>\n",
       "      <td>0.074767</td>\n",
       "      <td>0.056538</td>\n",
       "      <td>54.217246</td>\n",
       "      <td>11.076879</td>\n",
       "      <td>0.102153</td>\n",
       "      <td>0.05106</td>\n",
       "      <td>...</td>\n",
       "      <td>0.03793</td>\n",
       "      <td>0.0</td>\n",
       "      <td>0.0</td>\n",
       "      <td>197.0</td>\n",
       "      <td>2.43511</td>\n",
       "      <td>0.0</td>\n",
       "      <td>0</td>\n",
       "      <td>False</td>\n",
       "      <td>False</td>\n",
       "      <td>False</td>\n",
       "    </tr>\n",
       "    <tr>\n",
       "      <td>Ca2La2I10-T1_Ti2Ge2O6</td>\n",
       "      <td>Ti2Ge2O6_Ca2La2I10-T1</td>\n",
       "      <td>Ti2Ge2O6</td>\n",
       "      <td>Ca2La2I10-T1</td>\n",
       "      <td>-0.658413</td>\n",
       "      <td>0.117797</td>\n",
       "      <td>0.089456</td>\n",
       "      <td>49.623362</td>\n",
       "      <td>18.454026</td>\n",
       "      <td>0.185941</td>\n",
       "      <td>0.00526</td>\n",
       "      <td>...</td>\n",
       "      <td>0.09867</td>\n",
       "      <td>0.0</td>\n",
       "      <td>0.0</td>\n",
       "      <td>0.0</td>\n",
       "      <td>-4.56952</td>\n",
       "      <td>0.0</td>\n",
       "      <td>0</td>\n",
       "      <td>False</td>\n",
       "      <td>False</td>\n",
       "      <td>False</td>\n",
       "    </tr>\n",
       "    <tr>\n",
       "      <td>Ca2La2I10-T1_Ta3Te1I7</td>\n",
       "      <td>Ca2La2I10-T1_Ta3Te1I7</td>\n",
       "      <td>Ca2La2I10-T1</td>\n",
       "      <td>Ta3Te1I7</td>\n",
       "      <td>-0.657006</td>\n",
       "      <td>0.083776</td>\n",
       "      <td>0.063756</td>\n",
       "      <td>28.505406</td>\n",
       "      <td>4.794372</td>\n",
       "      <td>0.084096</td>\n",
       "      <td>0.01765</td>\n",
       "      <td>...</td>\n",
       "      <td>0.07947</td>\n",
       "      <td>0.0</td>\n",
       "      <td>0.0</td>\n",
       "      <td>197.0</td>\n",
       "      <td>-5.53334</td>\n",
       "      <td>0.0</td>\n",
       "      <td>0</td>\n",
       "      <td>False</td>\n",
       "      <td>False</td>\n",
       "      <td>False</td>\n",
       "    </tr>\n",
       "  </tbody>\n",
       "</table>\n",
       "<p>5 rows × 133 columns</p>\n",
       "</div>"
      ],
      "text/plain": [
       "                                     bilayer    monolayer1    monolayer2  \\\n",
       "uid                                                                        \n",
       "Hf3Te2_Mo1S2-T1              Hf3Te2_Mo1S2-T1        Hf3Te2      Mo1S2-T1   \n",
       "Hf3Te2_W1S2-T1                W1S2-T1_Hf3Te2       W1S2-T1        Hf3Te2   \n",
       "Cr1S2-T1_Hf3Te2              Hf3Te2_Cr1S2-T1        Hf3Te2      Cr1S2-T1   \n",
       "Ca2La2I10-T1_Ti2Ge2O6  Ti2Ge2O6_Ca2La2I10-T1      Ti2Ge2O6  Ca2La2I10-T1   \n",
       "Ca2La2I10-T1_Ta3Te1I7  Ca2La2I10-T1_Ta3Te1I7  Ca2La2I10-T1      Ta3Te1I7   \n",
       "\n",
       "                             IE  IE_error  IE_rel_error        C33  C33_error  \\\n",
       "uid                                                                             \n",
       "Hf3Te2_Mo1S2-T1       -0.698046  0.081306      0.058239  36.954759   6.369837   \n",
       "Hf3Te2_W1S2-T1        -0.677167  0.080142      0.059174  44.432743   7.523579   \n",
       "Cr1S2-T1_Hf3Te2       -0.661212  0.074767      0.056538  54.217246  11.076879   \n",
       "Ca2La2I10-T1_Ti2Ge2O6 -0.658413  0.117797      0.089456  49.623362  18.454026   \n",
       "Ca2La2I10-T1_Ta3Te1I7 -0.657006  0.083776      0.063756  28.505406   4.794372   \n",
       "\n",
       "                       C33_rel_err  Atom_EA_Min  ...  \\\n",
       "uid                                              ...   \n",
       "Hf3Te2_Mo1S2-T1           0.086184      0.05468  ...   \n",
       "Hf3Te2_W1S2-T1            0.084663      0.05818  ...   \n",
       "Cr1S2-T1_Hf3Te2           0.102153      0.05106  ...   \n",
       "Ca2La2I10-T1_Ti2Ge2O6     0.185941      0.00526  ...   \n",
       "Ca2La2I10-T1_Ta3Te1I7     0.084096      0.01765  ...   \n",
       "\n",
       "                       Atom_Ratio_dHFus_SpeedSound_StDiv  EState_Topo_Ni_Zeff  \\\n",
       "uid                                                                             \n",
       "Hf3Te2_Mo1S2-T1                                  0.03793                  0.0   \n",
       "Hf3Te2_W1S2-T1                                   0.03793                  0.0   \n",
       "Cr1S2-T1_Hf3Te2                                  0.03793                  0.0   \n",
       "Ca2La2I10-T1_Ti2Ge2O6                            0.09867                  0.0   \n",
       "Ca2La2I10-T1_Ta3Te1I7                            0.07947                  0.0   \n",
       "\n",
       "                       EState_Topo_Pd_Zeff  EState_Topo_Te_dHAtom  \\\n",
       "uid                                                                 \n",
       "Hf3Te2_Mo1S2-T1                        0.0                  197.0   \n",
       "Hf3Te2_W1S2-T1                         0.0                  197.0   \n",
       "Cr1S2-T1_Hf3Te2                        0.0                  197.0   \n",
       "Ca2La2I10-T1_Ti2Ge2O6                  0.0                    0.0   \n",
       "Ca2La2I10-T1_Ta3Te1I7                  0.0                  197.0   \n",
       "\n",
       "                       Moment_SpeedSound_1  Moment_TCurie_1  SG187  \\\n",
       "uid                                                                  \n",
       "Hf3Te2_Mo1S2-T1                    0.78230              0.0      0   \n",
       "Hf3Te2_W1S2-T1                     0.78230              0.0      0   \n",
       "Cr1S2-T1_Hf3Te2                    2.43511              0.0      0   \n",
       "Ca2La2I10-T1_Ti2Ge2O6             -4.56952              0.0      0   \n",
       "Ca2La2I10-T1_Ta3Te1I7             -5.53334              0.0      0   \n",
       "\n",
       "                       commensurate  dft_ie  dft_c33  \n",
       "uid                                                   \n",
       "Hf3Te2_Mo1S2-T1               False   False    False  \n",
       "Hf3Te2_W1S2-T1                False   False    False  \n",
       "Cr1S2-T1_Hf3Te2               False   False    False  \n",
       "Ca2La2I10-T1_Ti2Ge2O6         False   False    False  \n",
       "Ca2La2I10-T1_Ta3Te1I7         False   False    False  \n",
       "\n",
       "[5 rows x 133 columns]"
      ]
     },
     "execution_count": 6,
     "metadata": {},
     "output_type": "execute_result"
    }
   ],
   "source": [
    "df.head()"
   ]
  },
  {
   "cell_type": "markdown",
   "metadata": {},
   "source": [
    "### get descriptors column names"
   ]
  },
  {
   "cell_type": "code",
   "execution_count": 7,
   "metadata": {},
   "outputs": [],
   "source": [
    "feature_cols = d.getDescriptorsColumnNames_IE()"
   ]
  },
  {
   "cell_type": "markdown",
   "metadata": {},
   "source": [
    "## sampling bilayers"
   ]
  },
  {
   "cell_type": "code",
   "execution_count": 8,
   "metadata": {},
   "outputs": [],
   "source": [
    "n = df.shape[0]\n",
    "#n = 50000\n",
    "df_features = df.sample(n=n)\n",
    "\n"
   ]
  },
  {
   "cell_type": "markdown",
   "metadata": {},
   "source": [
    "# UMAP"
   ]
  },
  {
   "cell_type": "markdown",
   "metadata": {
    "toc-hr-collapsed": false
   },
   "source": [
    "## umap_fit function"
   ]
  },
  {
   "cell_type": "code",
   "execution_count": 9,
   "metadata": {},
   "outputs": [],
   "source": [
    "# call with df_features[feature_cols]\n",
    "# labels_df has two columns C33 and communsurate \n",
    "\n",
    "def umap_fit(df, labels_df, \n",
    "             plot_df_filename, \n",
    "             index_name='uid', \n",
    "             n_neighbors = 15, \n",
    "             n_components = 2, \n",
    "             min_dist = 0.1, \n",
    "             metric = 'euclidean'):\n",
    "    \n",
    "    reducer = umap.UMAP(n_neighbors=n_neighbors,\n",
    "                        n_components=n_components,\n",
    "                        min_dist=min_dist,\n",
    "                        metric=metric,\n",
    "                        random_state=50\n",
    "                       )\n",
    "    \n",
    "    embeddings = reducer.fit_transform(df)\n",
    "    embeddings_df = pd.DataFrame(embeddings, columns={'x','y'})\n",
    "    label1_name = labels_df.columns[0]\n",
    "    label2_name = labels_df.columns[1]\n",
    "    label3_name = labels_df.columns[2]\n",
    "    label4_name = labels_df.columns[3]\n",
    "    \n",
    "    plot_df = pd.concat([embeddings_df, labels_df], \n",
    "              axis=1, \n",
    "              ignore_index=False)\n",
    "    \n",
    "    plot_df.set_index(index_name, inplace=True)\n",
    "    \n",
    "    plot_df.to_csv(Config().get_datapath(plot_df_filename))\n",
    "    \n",
    "    return(plot_df)"
   ]
  },
  {
   "cell_type": "markdown",
   "metadata": {},
   "source": [
    "### Test with a small sample"
   ]
  },
  {
   "cell_type": "code",
   "execution_count": 10,
   "metadata": {},
   "outputs": [
    {
     "name": "stderr",
     "output_type": "stream",
     "text": [
      "/home/mutaz/.local/lib/python3.6/site-packages/numba/typed_passes.py:271: NumbaPerformanceWarning: \n",
      "The keyword argument 'parallel=True' was specified but no transformation for parallel execution was possible.\n",
      "\n",
      "To find out why, try turning on parallel diagnostics, see http://numba.pydata.org/numba-doc/latest/user/parallel.html#diagnostics for help.\n",
      "\n",
      "File \"../.local/lib/python3.6/site-packages/umap/rp_tree.py\", line 135:\n",
      "@numba.njit(fastmath=True, nogil=True, parallel=True)\n",
      "def euclidean_random_projection_split(data, indices, rng_state):\n",
      "^\n",
      "\n",
      "  state.func_ir.loc))\n",
      "/home/mutaz/.local/lib/python3.6/site-packages/umap/nndescent.py:92: NumbaPerformanceWarning: \n",
      "The keyword argument 'parallel=True' was specified but no transformation for parallel execution was possible.\n",
      "\n",
      "To find out why, try turning on parallel diagnostics, see http://numba.pydata.org/numba-doc/latest/user/parallel.html#diagnostics for help.\n",
      "\n",
      "File \"../.local/lib/python3.6/site-packages/umap/utils.py\", line 409:\n",
      "@numba.njit(parallel=True)\n",
      "def build_candidates(current_graph, n_vertices, n_neighbors, max_candidates, rng_state):\n",
      "^\n",
      "\n",
      "  current_graph, n_vertices, n_neighbors, max_candidates, rng_state\n",
      "/home/mutaz/.local/lib/python3.6/site-packages/numba/typed_passes.py:271: NumbaPerformanceWarning: \n",
      "The keyword argument 'parallel=True' was specified but no transformation for parallel execution was possible.\n",
      "\n",
      "To find out why, try turning on parallel diagnostics, see http://numba.pydata.org/numba-doc/latest/user/parallel.html#diagnostics for help.\n",
      "\n",
      "File \"../.local/lib/python3.6/site-packages/umap/nndescent.py\", line 47:\n",
      "    @numba.njit(parallel=True)\n",
      "    def nn_descent(\n",
      "    ^\n",
      "\n",
      "  state.func_ir.loc))\n",
      "/home/mutaz/.local/lib/python3.6/site-packages/umap/spectral.py:229: UserWarning: Embedding a total of 2 separate connected components using meta-embedding (experimental)\n",
      "  n_components\n"
     ]
    }
   ],
   "source": [
    "n = 10000\n",
    "neighbors = 40\n",
    "components = 2\n",
    "\n",
    "df_features = df.sample(n=n)\n",
    "filename_pattern = 'umap_300Kdf_{}_{}_{}_{}_flags.csv'\n",
    "filename = filename_pattern.format('IE',n,neighbors, components)\n",
    "plot_df = umap_fit(df=df_features[feature_cols],\n",
    "                   labels_df=df_features[['IE','commensurate', 'dft_ie', 'dft_c33']].reset_index(), \n",
    "                   plot_df_filename=filename,\n",
    "                   n_neighbors=neighbors, \n",
    "                   n_components=components)"
   ]
  },
  {
   "cell_type": "code",
   "execution_count": 11,
   "metadata": {},
   "outputs": [
    {
     "data": {
      "text/html": [
       "<div>\n",
       "<style scoped>\n",
       "    .dataframe tbody tr th:only-of-type {\n",
       "        vertical-align: middle;\n",
       "    }\n",
       "\n",
       "    .dataframe tbody tr th {\n",
       "        vertical-align: top;\n",
       "    }\n",
       "\n",
       "    .dataframe thead th {\n",
       "        text-align: right;\n",
       "    }\n",
       "</style>\n",
       "<table border=\"1\" class=\"dataframe\">\n",
       "  <thead>\n",
       "    <tr style=\"text-align: right;\">\n",
       "      <th></th>\n",
       "      <th>y</th>\n",
       "      <th>x</th>\n",
       "      <th>IE</th>\n",
       "      <th>commensurate</th>\n",
       "      <th>dft_ie</th>\n",
       "      <th>dft_c33</th>\n",
       "    </tr>\n",
       "    <tr>\n",
       "      <th>uid</th>\n",
       "      <th></th>\n",
       "      <th></th>\n",
       "      <th></th>\n",
       "      <th></th>\n",
       "      <th></th>\n",
       "      <th></th>\n",
       "    </tr>\n",
       "  </thead>\n",
       "  <tbody>\n",
       "    <tr>\n",
       "      <td>B1N1_Ta1S2</td>\n",
       "      <td>9.085064</td>\n",
       "      <td>-0.871372</td>\n",
       "      <td>-0.291007</td>\n",
       "      <td>True</td>\n",
       "      <td>True</td>\n",
       "      <td>False</td>\n",
       "    </tr>\n",
       "    <tr>\n",
       "      <td>Ti1Te2_Ti1Te2</td>\n",
       "      <td>19.842476</td>\n",
       "      <td>-10.782937</td>\n",
       "      <td>-0.284875</td>\n",
       "      <td>False</td>\n",
       "      <td>True</td>\n",
       "      <td>True</td>\n",
       "    </tr>\n",
       "    <tr>\n",
       "      <td>C2_Mo1S2-T1</td>\n",
       "      <td>7.282235</td>\n",
       "      <td>-4.383790</td>\n",
       "      <td>-0.425938</td>\n",
       "      <td>False</td>\n",
       "      <td>True</td>\n",
       "      <td>False</td>\n",
       "    </tr>\n",
       "    <tr>\n",
       "      <td>Ta1S2_Zn1O1</td>\n",
       "      <td>9.438522</td>\n",
       "      <td>-0.296890</td>\n",
       "      <td>-0.375205</td>\n",
       "      <td>False</td>\n",
       "      <td>True</td>\n",
       "      <td>True</td>\n",
       "    </tr>\n",
       "    <tr>\n",
       "      <td>Ta1Cl2_W1S2</td>\n",
       "      <td>8.221067</td>\n",
       "      <td>-1.219938</td>\n",
       "      <td>-0.345925</td>\n",
       "      <td>False</td>\n",
       "      <td>True</td>\n",
       "      <td>True</td>\n",
       "    </tr>\n",
       "    <tr>\n",
       "      <td>Hf1S2-T1_Ta1Te2</td>\n",
       "      <td>20.853523</td>\n",
       "      <td>-1.037642</td>\n",
       "      <td>-0.422690</td>\n",
       "      <td>False</td>\n",
       "      <td>True</td>\n",
       "      <td>True</td>\n",
       "    </tr>\n",
       "    <tr>\n",
       "      <td>C2_Zn1O1</td>\n",
       "      <td>8.257190</td>\n",
       "      <td>-2.305371</td>\n",
       "      <td>-0.299675</td>\n",
       "      <td>False</td>\n",
       "      <td>True</td>\n",
       "      <td>False</td>\n",
       "    </tr>\n",
       "    <tr>\n",
       "      <td>Nb1Te2_Pd1Te2</td>\n",
       "      <td>15.790629</td>\n",
       "      <td>6.235771</td>\n",
       "      <td>-0.255411</td>\n",
       "      <td>False</td>\n",
       "      <td>True</td>\n",
       "      <td>True</td>\n",
       "    </tr>\n",
       "    <tr>\n",
       "      <td>Mo1Se2_Re4S8</td>\n",
       "      <td>10.347672</td>\n",
       "      <td>0.896462</td>\n",
       "      <td>-0.290301</td>\n",
       "      <td>False</td>\n",
       "      <td>True</td>\n",
       "      <td>False</td>\n",
       "    </tr>\n",
       "  </tbody>\n",
       "</table>\n",
       "</div>"
      ],
      "text/plain": [
       "                         y          x        IE  commensurate  dft_ie  dft_c33\n",
       "uid                                                                           \n",
       "B1N1_Ta1S2        9.085064  -0.871372 -0.291007          True    True    False\n",
       "Ti1Te2_Ti1Te2    19.842476 -10.782937 -0.284875         False    True     True\n",
       "C2_Mo1S2-T1       7.282235  -4.383790 -0.425938         False    True    False\n",
       "Ta1S2_Zn1O1       9.438522  -0.296890 -0.375205         False    True     True\n",
       "Ta1Cl2_W1S2       8.221067  -1.219938 -0.345925         False    True     True\n",
       "Hf1S2-T1_Ta1Te2  20.853523  -1.037642 -0.422690         False    True     True\n",
       "C2_Zn1O1          8.257190  -2.305371 -0.299675         False    True    False\n",
       "Nb1Te2_Pd1Te2    15.790629   6.235771 -0.255411         False    True     True\n",
       "Mo1Se2_Re4S8     10.347672   0.896462 -0.290301         False    True    False"
      ]
     },
     "execution_count": 11,
     "metadata": {},
     "output_type": "execute_result"
    }
   ],
   "source": [
    "plot_df[plot_df.dft_ie == True]"
   ]
  },
  {
   "cell_type": "markdown",
   "metadata": {},
   "source": [
    "# Generate Umap plot dfs "
   ]
  },
  {
   "cell_type": "code",
   "execution_count": 14,
   "metadata": {},
   "outputs": [],
   "source": [
    "n = df.shape[0]\n",
    "neighbors_list = [40]\n",
    "components = 2\n",
    "\n",
    "df_features = df.sample(n=n)\n",
    "filename_pattern = 'umap_300Kdf_{}_{}_{}_{}_flags.csv'"
   ]
  },
  {
   "cell_type": "code",
   "execution_count": 15,
   "metadata": {},
   "outputs": [
    {
     "name": "stdout",
     "output_type": "stream",
     "text": [
      "prep for filename: umap_300Kdf_IE_296835_40_2_flags.csv\n"
     ]
    },
    {
     "name": "stderr",
     "output_type": "stream",
     "text": [
      "/home/mutaz/.local/lib/python3.6/site-packages/numba/typed_passes.py:271: NumbaPerformanceWarning: \n",
      "The keyword argument 'parallel=True' was specified but no transformation for parallel execution was possible.\n",
      "\n",
      "To find out why, try turning on parallel diagnostics, see http://numba.pydata.org/numba-doc/latest/user/parallel.html#diagnostics for help.\n",
      "\n",
      "File \"../.local/lib/python3.6/site-packages/umap/nndescent.py\", line 47:\n",
      "    @numba.njit(parallel=True)\n",
      "    def nn_descent(\n",
      "    ^\n",
      "\n",
      "  state.func_ir.loc))\n"
     ]
    },
    {
     "name": "stdout",
     "output_type": "stream",
     "text": [
      "for neighbors: 40. 2535.907 secs\n"
     ]
    }
   ],
   "source": [
    "for neighbors in neighbors_list: \n",
    "    time_start = time.time()\n",
    "    filename = filename_pattern.format('IE',n,neighbors, components)\n",
    "    print(f'prep for filename: {filename}')\n",
    "    plot_df = umap_fit(df=df_features[feature_cols],\n",
    "                   labels_df=df_features[['IE','commensurate', 'dft_ie', 'dft_ie']].reset_index(), \n",
    "                   plot_df_filename=filename,\n",
    "                   n_neighbors=neighbors, \n",
    "                   n_components=components)\n",
    "    print('for neighbors: {}. {:.3f} secs'.format(neighbors,time.time()-time_start))\n",
    "\n",
    "    "
   ]
  },
  {
   "cell_type": "code",
   "execution_count": null,
   "metadata": {},
   "outputs": [],
   "source": [
    "#umap_300Kdf_IE_10000_40_2_flags"
   ]
  }
 ],
 "metadata": {
  "file_extension": ".py",
  "kernelspec": {
   "display_name": "Python 3",
   "language": "python",
   "name": "python3"
  },
  "language_info": {
   "codemirror_mode": {
    "name": "ipython",
    "version": 3
   },
   "file_extension": ".py",
   "mimetype": "text/x-python",
   "name": "python",
   "nbconvert_exporter": "python",
   "pygments_lexer": "ipython3",
   "version": "3.6.9"
  },
  "mimetype": "text/x-python",
  "name": "python",
  "npconvert_exporter": "python",
  "pygments_lexer": "ipython3",
  "version": 3
 },
 "nbformat": 4,
 "nbformat_minor": 4
}
