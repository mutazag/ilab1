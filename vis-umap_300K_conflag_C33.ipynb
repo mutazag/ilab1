{
 "cells": [
  {
   "cell_type": "markdown",
   "metadata": {},
   "source": [
    "# C33 UMAP Visualisation of 300K \n",
    "\n",
    "This notebook is to build a UMAP visualisation of the 300K data set, and use the flag for commensurate bilayers for higlighing the umap plot. "
   ]
  },
  {
   "cell_type": "markdown",
   "metadata": {},
   "source": [
    "## Imports\n",
    "\n",
    "in addition to the usual libraries like pandas, plotting and sklearn, UMAP is imported for fitting a manifold on a multi dimensional space"
   ]
  },
  {
   "cell_type": "code",
   "execution_count": 1,
   "metadata": {},
   "outputs": [
    {
     "name": "stdout",
     "output_type": "stream",
     "text": [
      "3.6.9 (default, Jul  3 2019, 15:36:16) \n",
      "[GCC 5.4.0 20160609]\n"
     ]
    }
   ],
   "source": [
    "import sys \n",
    "import os\n",
    "import pathlib\n",
    "print(sys.version)"
   ]
  },
  {
   "cell_type": "code",
   "execution_count": 2,
   "metadata": {},
   "outputs": [
    {
     "name": "stdout",
     "output_type": "stream",
     "text": [
      "True\n",
      "/home/mutaz/ilab1\n",
      "['/usr/lib/python36.zip', '/usr/lib/python3.6', '/usr/lib/python3.6/lib-dynload', '', '/home/mutaz/.local/lib/python3.6/site-packages', '/usr/local/lib/python3.6/dist-packages', '/usr/lib/python3/dist-packages', '/home/mutaz/.local/lib/python3.6/site-packages/IPython/extensions', '/home/mutaz/.ipython', '../']\n"
     ]
    }
   ],
   "source": [
    "utils_path = pathlib.Path(os.getcwd() + '/utils')  # i suspect this one is not needed\n",
    "print(utils_path.exists())\n",
    "print(os.getcwd())\n",
    "#sys.path.append(str(utils_path))  # may not be necessary\n",
    "#sys.path.append(os.getcwd())  # i thnk this is the one that works \n",
    "sys.path.append('../') # this one is one level up so we can see the utils lib\n",
    "print(sys.path)"
   ]
  },
  {
   "cell_type": "code",
   "execution_count": 3,
   "metadata": {},
   "outputs": [],
   "source": [
    "import numpy as np\n",
    "import sklearn\n",
    "from sklearn.datasets import load_iris, load_digits\n",
    "from sklearn.model_selection import train_test_split\n",
    "import matplotlib.pyplot as plt\n",
    "import seaborn as sns\n",
    "import pandas as pd\n",
    "\n",
    "from utils.data import Data"
   ]
  },
  {
   "cell_type": "code",
   "execution_count": 4,
   "metadata": {},
   "outputs": [],
   "source": [
    "import umap\n",
    "import numba"
   ]
  },
  {
   "cell_type": "markdown",
   "metadata": {},
   "source": [
    "## Read Data"
   ]
  },
  {
   "cell_type": "code",
   "execution_count": 5,
   "metadata": {},
   "outputs": [],
   "source": [
    "d = Data()"
   ]
  },
  {
   "cell_type": "code",
   "execution_count": 6,
   "metadata": {},
   "outputs": [
    {
     "name": "stdout",
     "output_type": "stream",
     "text": [
      "set index\n",
      "time to load 29.54\n"
     ]
    }
   ],
   "source": [
    "# v2 = True: loading the dataset with the con flag\n",
    "df = d.get300K_features(v2=True)"
   ]
  },
  {
   "cell_type": "code",
   "execution_count": 7,
   "metadata": {},
   "outputs": [
    {
     "data": {
      "text/html": [
       "<div>\n",
       "<style scoped>\n",
       "    .dataframe tbody tr th:only-of-type {\n",
       "        vertical-align: middle;\n",
       "    }\n",
       "\n",
       "    .dataframe tbody tr th {\n",
       "        vertical-align: top;\n",
       "    }\n",
       "\n",
       "    .dataframe thead th {\n",
       "        text-align: right;\n",
       "    }\n",
       "</style>\n",
       "<table border=\"1\" class=\"dataframe\">\n",
       "  <thead>\n",
       "    <tr style=\"text-align: right;\">\n",
       "      <th></th>\n",
       "      <th>bilayer</th>\n",
       "      <th>monolayer1</th>\n",
       "      <th>monolayer2</th>\n",
       "      <th>IE</th>\n",
       "      <th>IE_error</th>\n",
       "      <th>IE_rel_error</th>\n",
       "      <th>C33</th>\n",
       "      <th>C33_error</th>\n",
       "      <th>C33_rel_err</th>\n",
       "      <th>Atom_EA_Min</th>\n",
       "      <th>...</th>\n",
       "      <th>Atom_Ratio_Density_TDebye0_Min</th>\n",
       "      <th>Atom_Ratio_ENARrev_YoungsModule_Min</th>\n",
       "      <th>Atom_Ratio_dHFus_SpeedSound_StDiv</th>\n",
       "      <th>EState_Topo_Ni_Zeff</th>\n",
       "      <th>EState_Topo_Pd_Zeff</th>\n",
       "      <th>EState_Topo_Te_dHAtom</th>\n",
       "      <th>Moment_SpeedSound_1</th>\n",
       "      <th>Moment_TCurie_1</th>\n",
       "      <th>SG187</th>\n",
       "      <th>commensurate</th>\n",
       "    </tr>\n",
       "    <tr>\n",
       "      <th>uid</th>\n",
       "      <th></th>\n",
       "      <th></th>\n",
       "      <th></th>\n",
       "      <th></th>\n",
       "      <th></th>\n",
       "      <th></th>\n",
       "      <th></th>\n",
       "      <th></th>\n",
       "      <th></th>\n",
       "      <th></th>\n",
       "      <th></th>\n",
       "      <th></th>\n",
       "      <th></th>\n",
       "      <th></th>\n",
       "      <th></th>\n",
       "      <th></th>\n",
       "      <th></th>\n",
       "      <th></th>\n",
       "      <th></th>\n",
       "      <th></th>\n",
       "      <th></th>\n",
       "    </tr>\n",
       "  </thead>\n",
       "  <tbody>\n",
       "    <tr>\n",
       "      <td>Hf3Te2_Mo1S2-T1</td>\n",
       "      <td>Hf3Te2_Mo1S2-T1</td>\n",
       "      <td>Hf3Te2</td>\n",
       "      <td>Mo1S2-T1</td>\n",
       "      <td>-0.698046</td>\n",
       "      <td>0.081306</td>\n",
       "      <td>0.058239</td>\n",
       "      <td>36.954759</td>\n",
       "      <td>6.369837</td>\n",
       "      <td>0.086184</td>\n",
       "      <td>0.05468</td>\n",
       "      <td>...</td>\n",
       "      <td>0.34662</td>\n",
       "      <td>0.13349</td>\n",
       "      <td>0.03793</td>\n",
       "      <td>0.0</td>\n",
       "      <td>0.0</td>\n",
       "      <td>197.0</td>\n",
       "      <td>0.78230</td>\n",
       "      <td>0.0</td>\n",
       "      <td>0</td>\n",
       "      <td>False</td>\n",
       "    </tr>\n",
       "    <tr>\n",
       "      <td>Hf3Te2_W1S2-T1</td>\n",
       "      <td>W1S2-T1_Hf3Te2</td>\n",
       "      <td>W1S2-T1</td>\n",
       "      <td>Hf3Te2</td>\n",
       "      <td>-0.677167</td>\n",
       "      <td>0.080142</td>\n",
       "      <td>0.059174</td>\n",
       "      <td>44.432743</td>\n",
       "      <td>7.523579</td>\n",
       "      <td>0.084663</td>\n",
       "      <td>0.05818</td>\n",
       "      <td>...</td>\n",
       "      <td>0.48604</td>\n",
       "      <td>0.23500</td>\n",
       "      <td>0.03793</td>\n",
       "      <td>0.0</td>\n",
       "      <td>0.0</td>\n",
       "      <td>197.0</td>\n",
       "      <td>0.78230</td>\n",
       "      <td>0.0</td>\n",
       "      <td>0</td>\n",
       "      <td>False</td>\n",
       "    </tr>\n",
       "    <tr>\n",
       "      <td>Cr1S2-T1_Hf3Te2</td>\n",
       "      <td>Hf3Te2_Cr1S2-T1</td>\n",
       "      <td>Hf3Te2</td>\n",
       "      <td>Cr1S2-T1</td>\n",
       "      <td>-0.661212</td>\n",
       "      <td>0.074767</td>\n",
       "      <td>0.056538</td>\n",
       "      <td>54.217246</td>\n",
       "      <td>11.076879</td>\n",
       "      <td>0.102153</td>\n",
       "      <td>0.05106</td>\n",
       "      <td>...</td>\n",
       "      <td>0.28118</td>\n",
       "      <td>0.13477</td>\n",
       "      <td>0.03793</td>\n",
       "      <td>0.0</td>\n",
       "      <td>0.0</td>\n",
       "      <td>197.0</td>\n",
       "      <td>2.43511</td>\n",
       "      <td>0.0</td>\n",
       "      <td>0</td>\n",
       "      <td>False</td>\n",
       "    </tr>\n",
       "    <tr>\n",
       "      <td>Ca2La2I10-T1_Ti2Ge2O6</td>\n",
       "      <td>Ti2Ge2O6_Ca2La2I10-T1</td>\n",
       "      <td>Ti2Ge2O6</td>\n",
       "      <td>Ca2La2I10-T1</td>\n",
       "      <td>-0.658413</td>\n",
       "      <td>0.117797</td>\n",
       "      <td>0.089456</td>\n",
       "      <td>49.623362</td>\n",
       "      <td>18.454026</td>\n",
       "      <td>0.185941</td>\n",
       "      <td>0.00526</td>\n",
       "      <td>...</td>\n",
       "      <td>0.09343</td>\n",
       "      <td>0.02233</td>\n",
       "      <td>0.09867</td>\n",
       "      <td>0.0</td>\n",
       "      <td>0.0</td>\n",
       "      <td>0.0</td>\n",
       "      <td>-4.56952</td>\n",
       "      <td>0.0</td>\n",
       "      <td>0</td>\n",
       "      <td>False</td>\n",
       "    </tr>\n",
       "    <tr>\n",
       "      <td>Ca2La2I10-T1_Ta3Te1I7</td>\n",
       "      <td>Ca2La2I10-T1_Ta3Te1I7</td>\n",
       "      <td>Ca2La2I10-T1</td>\n",
       "      <td>Ta3Te1I7</td>\n",
       "      <td>-0.657006</td>\n",
       "      <td>0.083776</td>\n",
       "      <td>0.063756</td>\n",
       "      <td>28.505406</td>\n",
       "      <td>4.794372</td>\n",
       "      <td>0.084096</td>\n",
       "      <td>0.01765</td>\n",
       "      <td>...</td>\n",
       "      <td>0.25418</td>\n",
       "      <td>0.14754</td>\n",
       "      <td>0.07947</td>\n",
       "      <td>0.0</td>\n",
       "      <td>0.0</td>\n",
       "      <td>197.0</td>\n",
       "      <td>-5.53334</td>\n",
       "      <td>0.0</td>\n",
       "      <td>0</td>\n",
       "      <td>False</td>\n",
       "    </tr>\n",
       "  </tbody>\n",
       "</table>\n",
       "<p>5 rows × 131 columns</p>\n",
       "</div>"
      ],
      "text/plain": [
       "                                     bilayer    monolayer1    monolayer2  \\\n",
       "uid                                                                        \n",
       "Hf3Te2_Mo1S2-T1              Hf3Te2_Mo1S2-T1        Hf3Te2      Mo1S2-T1   \n",
       "Hf3Te2_W1S2-T1                W1S2-T1_Hf3Te2       W1S2-T1        Hf3Te2   \n",
       "Cr1S2-T1_Hf3Te2              Hf3Te2_Cr1S2-T1        Hf3Te2      Cr1S2-T1   \n",
       "Ca2La2I10-T1_Ti2Ge2O6  Ti2Ge2O6_Ca2La2I10-T1      Ti2Ge2O6  Ca2La2I10-T1   \n",
       "Ca2La2I10-T1_Ta3Te1I7  Ca2La2I10-T1_Ta3Te1I7  Ca2La2I10-T1      Ta3Te1I7   \n",
       "\n",
       "                             IE  IE_error  IE_rel_error        C33  C33_error  \\\n",
       "uid                                                                             \n",
       "Hf3Te2_Mo1S2-T1       -0.698046  0.081306      0.058239  36.954759   6.369837   \n",
       "Hf3Te2_W1S2-T1        -0.677167  0.080142      0.059174  44.432743   7.523579   \n",
       "Cr1S2-T1_Hf3Te2       -0.661212  0.074767      0.056538  54.217246  11.076879   \n",
       "Ca2La2I10-T1_Ti2Ge2O6 -0.658413  0.117797      0.089456  49.623362  18.454026   \n",
       "Ca2La2I10-T1_Ta3Te1I7 -0.657006  0.083776      0.063756  28.505406   4.794372   \n",
       "\n",
       "                       C33_rel_err  Atom_EA_Min  ...  \\\n",
       "uid                                              ...   \n",
       "Hf3Te2_Mo1S2-T1           0.086184      0.05468  ...   \n",
       "Hf3Te2_W1S2-T1            0.084663      0.05818  ...   \n",
       "Cr1S2-T1_Hf3Te2           0.102153      0.05106  ...   \n",
       "Ca2La2I10-T1_Ti2Ge2O6     0.185941      0.00526  ...   \n",
       "Ca2La2I10-T1_Ta3Te1I7     0.084096      0.01765  ...   \n",
       "\n",
       "                       Atom_Ratio_Density_TDebye0_Min  \\\n",
       "uid                                                     \n",
       "Hf3Te2_Mo1S2-T1                               0.34662   \n",
       "Hf3Te2_W1S2-T1                                0.48604   \n",
       "Cr1S2-T1_Hf3Te2                               0.28118   \n",
       "Ca2La2I10-T1_Ti2Ge2O6                         0.09343   \n",
       "Ca2La2I10-T1_Ta3Te1I7                         0.25418   \n",
       "\n",
       "                       Atom_Ratio_ENARrev_YoungsModule_Min  \\\n",
       "uid                                                          \n",
       "Hf3Te2_Mo1S2-T1                                    0.13349   \n",
       "Hf3Te2_W1S2-T1                                     0.23500   \n",
       "Cr1S2-T1_Hf3Te2                                    0.13477   \n",
       "Ca2La2I10-T1_Ti2Ge2O6                              0.02233   \n",
       "Ca2La2I10-T1_Ta3Te1I7                              0.14754   \n",
       "\n",
       "                       Atom_Ratio_dHFus_SpeedSound_StDiv  EState_Topo_Ni_Zeff  \\\n",
       "uid                                                                             \n",
       "Hf3Te2_Mo1S2-T1                                  0.03793                  0.0   \n",
       "Hf3Te2_W1S2-T1                                   0.03793                  0.0   \n",
       "Cr1S2-T1_Hf3Te2                                  0.03793                  0.0   \n",
       "Ca2La2I10-T1_Ti2Ge2O6                            0.09867                  0.0   \n",
       "Ca2La2I10-T1_Ta3Te1I7                            0.07947                  0.0   \n",
       "\n",
       "                       EState_Topo_Pd_Zeff  EState_Topo_Te_dHAtom  \\\n",
       "uid                                                                 \n",
       "Hf3Te2_Mo1S2-T1                        0.0                  197.0   \n",
       "Hf3Te2_W1S2-T1                         0.0                  197.0   \n",
       "Cr1S2-T1_Hf3Te2                        0.0                  197.0   \n",
       "Ca2La2I10-T1_Ti2Ge2O6                  0.0                    0.0   \n",
       "Ca2La2I10-T1_Ta3Te1I7                  0.0                  197.0   \n",
       "\n",
       "                       Moment_SpeedSound_1  Moment_TCurie_1  SG187  \\\n",
       "uid                                                                  \n",
       "Hf3Te2_Mo1S2-T1                    0.78230              0.0      0   \n",
       "Hf3Te2_W1S2-T1                     0.78230              0.0      0   \n",
       "Cr1S2-T1_Hf3Te2                    2.43511              0.0      0   \n",
       "Ca2La2I10-T1_Ti2Ge2O6             -4.56952              0.0      0   \n",
       "Ca2La2I10-T1_Ta3Te1I7             -5.53334              0.0      0   \n",
       "\n",
       "                       commensurate  \n",
       "uid                                  \n",
       "Hf3Te2_Mo1S2-T1               False  \n",
       "Hf3Te2_W1S2-T1                False  \n",
       "Cr1S2-T1_Hf3Te2               False  \n",
       "Ca2La2I10-T1_Ti2Ge2O6         False  \n",
       "Ca2La2I10-T1_Ta3Te1I7         False  \n",
       "\n",
       "[5 rows x 131 columns]"
      ]
     },
     "execution_count": 7,
     "metadata": {},
     "output_type": "execute_result"
    }
   ],
   "source": [
    "df.head()"
   ]
  },
  {
   "cell_type": "markdown",
   "metadata": {},
   "source": [
    "### get descriptors column names"
   ]
  },
  {
   "cell_type": "code",
   "execution_count": 8,
   "metadata": {},
   "outputs": [],
   "source": [
    "feature_cols = d.getDescriptorsColumnNames_C33()"
   ]
  },
  {
   "cell_type": "code",
   "execution_count": 9,
   "metadata": {},
   "outputs": [
    {
     "data": {
      "text/plain": [
       "0\n",
       "1                     Atom_EA_Min\n",
       "2           Atom_HardnessRB_StDiv\n",
       "3                    Atom_IP8_Min\n",
       "4     Atom_Inv_Diff_IP2_IP4_StDiv\n",
       "5     Atom_Inv_Diff_IP5_IP6_StDiv\n",
       "                 ...             \n",
       "91      Moment_ThermalExpansion_2\n",
       "92          Moment_YoungsModule_2\n",
       "93                       Ratio_ac\n",
       "94                       Ratio_bc\n",
       "95                          SG164\n",
       "Name: 1, Length: 95, dtype: object"
      ]
     },
     "execution_count": 9,
     "metadata": {},
     "output_type": "execute_result"
    }
   ],
   "source": [
    "feature_cols"
   ]
  },
  {
   "cell_type": "markdown",
   "metadata": {},
   "source": [
    "## sampling bilayers"
   ]
  },
  {
   "cell_type": "code",
   "execution_count": 10,
   "metadata": {},
   "outputs": [
    {
     "data": {
      "text/plain": [
       "Index(['bilayer', 'monolayer1', 'monolayer2', 'IE', 'IE_error', 'IE_rel_error',\n",
       "       'C33', 'C33_error', 'C33_rel_err', 'Atom_EA_Min',\n",
       "       ...\n",
       "       'Atom_Ratio_Density_TDebye0_Min', 'Atom_Ratio_ENARrev_YoungsModule_Min',\n",
       "       'Atom_Ratio_dHFus_SpeedSound_StDiv', 'EState_Topo_Ni_Zeff',\n",
       "       'EState_Topo_Pd_Zeff', 'EState_Topo_Te_dHAtom', 'Moment_SpeedSound_1',\n",
       "       'Moment_TCurie_1', 'SG187', 'commensurate'],\n",
       "      dtype='object', length=131)"
      ]
     },
     "execution_count": 10,
     "metadata": {},
     "output_type": "execute_result"
    }
   ],
   "source": [
    "df.columns"
   ]
  },
  {
   "cell_type": "code",
   "execution_count": 12,
   "metadata": {},
   "outputs": [],
   "source": [
    "df[(df.commensurate == True)].shape\n",
    "df_features = df\n"
   ]
  },
  {
   "cell_type": "code",
   "execution_count": 13,
   "metadata": {},
   "outputs": [],
   "source": [
    "n = df.shape[0]"
   ]
  },
  {
   "cell_type": "code",
   "execution_count": 14,
   "metadata": {},
   "outputs": [],
   "source": [
    "#n = 50000\n",
    "#df_features = df.sample(n=n)"
   ]
  },
  {
   "cell_type": "code",
   "execution_count": 15,
   "metadata": {},
   "outputs": [
    {
     "data": {
      "text/html": [
       "<div>\n",
       "<style scoped>\n",
       "    .dataframe tbody tr th:only-of-type {\n",
       "        vertical-align: middle;\n",
       "    }\n",
       "\n",
       "    .dataframe tbody tr th {\n",
       "        vertical-align: top;\n",
       "    }\n",
       "\n",
       "    .dataframe thead th {\n",
       "        text-align: right;\n",
       "    }\n",
       "</style>\n",
       "<table border=\"1\" class=\"dataframe\">\n",
       "  <thead>\n",
       "    <tr style=\"text-align: right;\">\n",
       "      <th></th>\n",
       "      <th>bilayer</th>\n",
       "      <th>monolayer1</th>\n",
       "      <th>monolayer2</th>\n",
       "      <th>IE</th>\n",
       "      <th>IE_error</th>\n",
       "      <th>IE_rel_error</th>\n",
       "      <th>C33</th>\n",
       "      <th>C33_error</th>\n",
       "      <th>C33_rel_err</th>\n",
       "      <th>Atom_EA_Min</th>\n",
       "      <th>...</th>\n",
       "      <th>Atom_Ratio_Density_TDebye0_Min</th>\n",
       "      <th>Atom_Ratio_ENARrev_YoungsModule_Min</th>\n",
       "      <th>Atom_Ratio_dHFus_SpeedSound_StDiv</th>\n",
       "      <th>EState_Topo_Ni_Zeff</th>\n",
       "      <th>EState_Topo_Pd_Zeff</th>\n",
       "      <th>EState_Topo_Te_dHAtom</th>\n",
       "      <th>Moment_SpeedSound_1</th>\n",
       "      <th>Moment_TCurie_1</th>\n",
       "      <th>SG187</th>\n",
       "      <th>commensurate</th>\n",
       "    </tr>\n",
       "    <tr>\n",
       "      <th>uid</th>\n",
       "      <th></th>\n",
       "      <th></th>\n",
       "      <th></th>\n",
       "      <th></th>\n",
       "      <th></th>\n",
       "      <th></th>\n",
       "      <th></th>\n",
       "      <th></th>\n",
       "      <th></th>\n",
       "      <th></th>\n",
       "      <th></th>\n",
       "      <th></th>\n",
       "      <th></th>\n",
       "      <th></th>\n",
       "      <th></th>\n",
       "      <th></th>\n",
       "      <th></th>\n",
       "      <th></th>\n",
       "      <th></th>\n",
       "      <th></th>\n",
       "      <th></th>\n",
       "    </tr>\n",
       "  </thead>\n",
       "  <tbody>\n",
       "    <tr>\n",
       "      <td>Hf3Te2_Mo1S2-T1</td>\n",
       "      <td>Hf3Te2_Mo1S2-T1</td>\n",
       "      <td>Hf3Te2</td>\n",
       "      <td>Mo1S2-T1</td>\n",
       "      <td>-0.698046</td>\n",
       "      <td>0.081306</td>\n",
       "      <td>0.058239</td>\n",
       "      <td>36.954759</td>\n",
       "      <td>6.369837</td>\n",
       "      <td>0.086184</td>\n",
       "      <td>0.05468</td>\n",
       "      <td>...</td>\n",
       "      <td>0.34662</td>\n",
       "      <td>0.13349</td>\n",
       "      <td>0.03793</td>\n",
       "      <td>0.0</td>\n",
       "      <td>0.0</td>\n",
       "      <td>197.0</td>\n",
       "      <td>0.78230</td>\n",
       "      <td>0.0</td>\n",
       "      <td>0</td>\n",
       "      <td>False</td>\n",
       "    </tr>\n",
       "    <tr>\n",
       "      <td>Hf3Te2_W1S2-T1</td>\n",
       "      <td>W1S2-T1_Hf3Te2</td>\n",
       "      <td>W1S2-T1</td>\n",
       "      <td>Hf3Te2</td>\n",
       "      <td>-0.677167</td>\n",
       "      <td>0.080142</td>\n",
       "      <td>0.059174</td>\n",
       "      <td>44.432743</td>\n",
       "      <td>7.523579</td>\n",
       "      <td>0.084663</td>\n",
       "      <td>0.05818</td>\n",
       "      <td>...</td>\n",
       "      <td>0.48604</td>\n",
       "      <td>0.23500</td>\n",
       "      <td>0.03793</td>\n",
       "      <td>0.0</td>\n",
       "      <td>0.0</td>\n",
       "      <td>197.0</td>\n",
       "      <td>0.78230</td>\n",
       "      <td>0.0</td>\n",
       "      <td>0</td>\n",
       "      <td>False</td>\n",
       "    </tr>\n",
       "    <tr>\n",
       "      <td>Cr1S2-T1_Hf3Te2</td>\n",
       "      <td>Hf3Te2_Cr1S2-T1</td>\n",
       "      <td>Hf3Te2</td>\n",
       "      <td>Cr1S2-T1</td>\n",
       "      <td>-0.661212</td>\n",
       "      <td>0.074767</td>\n",
       "      <td>0.056538</td>\n",
       "      <td>54.217246</td>\n",
       "      <td>11.076879</td>\n",
       "      <td>0.102153</td>\n",
       "      <td>0.05106</td>\n",
       "      <td>...</td>\n",
       "      <td>0.28118</td>\n",
       "      <td>0.13477</td>\n",
       "      <td>0.03793</td>\n",
       "      <td>0.0</td>\n",
       "      <td>0.0</td>\n",
       "      <td>197.0</td>\n",
       "      <td>2.43511</td>\n",
       "      <td>0.0</td>\n",
       "      <td>0</td>\n",
       "      <td>False</td>\n",
       "    </tr>\n",
       "    <tr>\n",
       "      <td>Ca2La2I10-T1_Ti2Ge2O6</td>\n",
       "      <td>Ti2Ge2O6_Ca2La2I10-T1</td>\n",
       "      <td>Ti2Ge2O6</td>\n",
       "      <td>Ca2La2I10-T1</td>\n",
       "      <td>-0.658413</td>\n",
       "      <td>0.117797</td>\n",
       "      <td>0.089456</td>\n",
       "      <td>49.623362</td>\n",
       "      <td>18.454026</td>\n",
       "      <td>0.185941</td>\n",
       "      <td>0.00526</td>\n",
       "      <td>...</td>\n",
       "      <td>0.09343</td>\n",
       "      <td>0.02233</td>\n",
       "      <td>0.09867</td>\n",
       "      <td>0.0</td>\n",
       "      <td>0.0</td>\n",
       "      <td>0.0</td>\n",
       "      <td>-4.56952</td>\n",
       "      <td>0.0</td>\n",
       "      <td>0</td>\n",
       "      <td>False</td>\n",
       "    </tr>\n",
       "    <tr>\n",
       "      <td>Ca2La2I10-T1_Ta3Te1I7</td>\n",
       "      <td>Ca2La2I10-T1_Ta3Te1I7</td>\n",
       "      <td>Ca2La2I10-T1</td>\n",
       "      <td>Ta3Te1I7</td>\n",
       "      <td>-0.657006</td>\n",
       "      <td>0.083776</td>\n",
       "      <td>0.063756</td>\n",
       "      <td>28.505406</td>\n",
       "      <td>4.794372</td>\n",
       "      <td>0.084096</td>\n",
       "      <td>0.01765</td>\n",
       "      <td>...</td>\n",
       "      <td>0.25418</td>\n",
       "      <td>0.14754</td>\n",
       "      <td>0.07947</td>\n",
       "      <td>0.0</td>\n",
       "      <td>0.0</td>\n",
       "      <td>197.0</td>\n",
       "      <td>-5.53334</td>\n",
       "      <td>0.0</td>\n",
       "      <td>0</td>\n",
       "      <td>False</td>\n",
       "    </tr>\n",
       "  </tbody>\n",
       "</table>\n",
       "<p>5 rows × 131 columns</p>\n",
       "</div>"
      ],
      "text/plain": [
       "                                     bilayer    monolayer1    monolayer2  \\\n",
       "uid                                                                        \n",
       "Hf3Te2_Mo1S2-T1              Hf3Te2_Mo1S2-T1        Hf3Te2      Mo1S2-T1   \n",
       "Hf3Te2_W1S2-T1                W1S2-T1_Hf3Te2       W1S2-T1        Hf3Te2   \n",
       "Cr1S2-T1_Hf3Te2              Hf3Te2_Cr1S2-T1        Hf3Te2      Cr1S2-T1   \n",
       "Ca2La2I10-T1_Ti2Ge2O6  Ti2Ge2O6_Ca2La2I10-T1      Ti2Ge2O6  Ca2La2I10-T1   \n",
       "Ca2La2I10-T1_Ta3Te1I7  Ca2La2I10-T1_Ta3Te1I7  Ca2La2I10-T1      Ta3Te1I7   \n",
       "\n",
       "                             IE  IE_error  IE_rel_error        C33  C33_error  \\\n",
       "uid                                                                             \n",
       "Hf3Te2_Mo1S2-T1       -0.698046  0.081306      0.058239  36.954759   6.369837   \n",
       "Hf3Te2_W1S2-T1        -0.677167  0.080142      0.059174  44.432743   7.523579   \n",
       "Cr1S2-T1_Hf3Te2       -0.661212  0.074767      0.056538  54.217246  11.076879   \n",
       "Ca2La2I10-T1_Ti2Ge2O6 -0.658413  0.117797      0.089456  49.623362  18.454026   \n",
       "Ca2La2I10-T1_Ta3Te1I7 -0.657006  0.083776      0.063756  28.505406   4.794372   \n",
       "\n",
       "                       C33_rel_err  Atom_EA_Min  ...  \\\n",
       "uid                                              ...   \n",
       "Hf3Te2_Mo1S2-T1           0.086184      0.05468  ...   \n",
       "Hf3Te2_W1S2-T1            0.084663      0.05818  ...   \n",
       "Cr1S2-T1_Hf3Te2           0.102153      0.05106  ...   \n",
       "Ca2La2I10-T1_Ti2Ge2O6     0.185941      0.00526  ...   \n",
       "Ca2La2I10-T1_Ta3Te1I7     0.084096      0.01765  ...   \n",
       "\n",
       "                       Atom_Ratio_Density_TDebye0_Min  \\\n",
       "uid                                                     \n",
       "Hf3Te2_Mo1S2-T1                               0.34662   \n",
       "Hf3Te2_W1S2-T1                                0.48604   \n",
       "Cr1S2-T1_Hf3Te2                               0.28118   \n",
       "Ca2La2I10-T1_Ti2Ge2O6                         0.09343   \n",
       "Ca2La2I10-T1_Ta3Te1I7                         0.25418   \n",
       "\n",
       "                       Atom_Ratio_ENARrev_YoungsModule_Min  \\\n",
       "uid                                                          \n",
       "Hf3Te2_Mo1S2-T1                                    0.13349   \n",
       "Hf3Te2_W1S2-T1                                     0.23500   \n",
       "Cr1S2-T1_Hf3Te2                                    0.13477   \n",
       "Ca2La2I10-T1_Ti2Ge2O6                              0.02233   \n",
       "Ca2La2I10-T1_Ta3Te1I7                              0.14754   \n",
       "\n",
       "                       Atom_Ratio_dHFus_SpeedSound_StDiv  EState_Topo_Ni_Zeff  \\\n",
       "uid                                                                             \n",
       "Hf3Te2_Mo1S2-T1                                  0.03793                  0.0   \n",
       "Hf3Te2_W1S2-T1                                   0.03793                  0.0   \n",
       "Cr1S2-T1_Hf3Te2                                  0.03793                  0.0   \n",
       "Ca2La2I10-T1_Ti2Ge2O6                            0.09867                  0.0   \n",
       "Ca2La2I10-T1_Ta3Te1I7                            0.07947                  0.0   \n",
       "\n",
       "                       EState_Topo_Pd_Zeff  EState_Topo_Te_dHAtom  \\\n",
       "uid                                                                 \n",
       "Hf3Te2_Mo1S2-T1                        0.0                  197.0   \n",
       "Hf3Te2_W1S2-T1                         0.0                  197.0   \n",
       "Cr1S2-T1_Hf3Te2                        0.0                  197.0   \n",
       "Ca2La2I10-T1_Ti2Ge2O6                  0.0                    0.0   \n",
       "Ca2La2I10-T1_Ta3Te1I7                  0.0                  197.0   \n",
       "\n",
       "                       Moment_SpeedSound_1  Moment_TCurie_1  SG187  \\\n",
       "uid                                                                  \n",
       "Hf3Te2_Mo1S2-T1                    0.78230              0.0      0   \n",
       "Hf3Te2_W1S2-T1                     0.78230              0.0      0   \n",
       "Cr1S2-T1_Hf3Te2                    2.43511              0.0      0   \n",
       "Ca2La2I10-T1_Ti2Ge2O6             -4.56952              0.0      0   \n",
       "Ca2La2I10-T1_Ta3Te1I7             -5.53334              0.0      0   \n",
       "\n",
       "                       commensurate  \n",
       "uid                                  \n",
       "Hf3Te2_Mo1S2-T1               False  \n",
       "Hf3Te2_W1S2-T1                False  \n",
       "Cr1S2-T1_Hf3Te2               False  \n",
       "Ca2La2I10-T1_Ti2Ge2O6         False  \n",
       "Ca2La2I10-T1_Ta3Te1I7         False  \n",
       "\n",
       "[5 rows x 131 columns]"
      ]
     },
     "execution_count": 15,
     "metadata": {},
     "output_type": "execute_result"
    }
   ],
   "source": [
    "df_features.head()"
   ]
  },
  {
   "cell_type": "code",
   "execution_count": 16,
   "metadata": {},
   "outputs": [
    {
     "data": {
      "text/plain": [
       "(296835, 131)"
      ]
     },
     "execution_count": 16,
     "metadata": {},
     "output_type": "execute_result"
    }
   ],
   "source": [
    "df_features.shape"
   ]
  },
  {
   "cell_type": "markdown",
   "metadata": {},
   "source": [
    "# UMAP"
   ]
  },
  {
   "cell_type": "code",
   "execution_count": 17,
   "metadata": {},
   "outputs": [
    {
     "data": {
      "text/plain": [
       "['UMAP',\n",
       " '__builtins__',\n",
       " '__cached__',\n",
       " '__doc__',\n",
       " '__file__',\n",
       " '__loader__',\n",
       " '__name__',\n",
       " '__package__',\n",
       " '__path__',\n",
       " '__spec__',\n",
       " '__version__',\n",
       " 'distances',\n",
       " 'nndescent',\n",
       " 'numba',\n",
       " 'pkg_resources',\n",
       " 'rp_tree',\n",
       " 'sparse',\n",
       " 'spectral',\n",
       " 'umap_',\n",
       " 'utils']"
      ]
     },
     "execution_count": 17,
     "metadata": {},
     "output_type": "execute_result"
    }
   ],
   "source": [
    "dir(umap)"
   ]
  },
  {
   "cell_type": "code",
   "execution_count": 18,
   "metadata": {},
   "outputs": [],
   "source": [
    "reducer = umap.UMAP(random_state=50)"
   ]
  },
  {
   "cell_type": "code",
   "execution_count": 19,
   "metadata": {},
   "outputs": [
    {
     "name": "stderr",
     "output_type": "stream",
     "text": [
      "/home/mutaz/.local/lib/python3.6/site-packages/numba/typed_passes.py:271: NumbaPerformanceWarning: \n",
      "The keyword argument 'parallel=True' was specified but no transformation for parallel execution was possible.\n",
      "\n",
      "To find out why, try turning on parallel diagnostics, see http://numba.pydata.org/numba-doc/latest/user/parallel.html#diagnostics for help.\n",
      "\n",
      "File \"../.local/lib/python3.6/site-packages/umap/rp_tree.py\", line 135:\n",
      "@numba.njit(fastmath=True, nogil=True, parallel=True)\n",
      "def euclidean_random_projection_split(data, indices, rng_state):\n",
      "^\n",
      "\n",
      "  state.func_ir.loc))\n"
     ]
    }
   ],
   "source": [
    "embedding = reducer.fit_transform(df_features[feature_cols])"
   ]
  },
  {
   "cell_type": "code",
   "execution_count": null,
   "metadata": {},
   "outputs": [],
   "source": [
    "embedding.shape"
   ]
  },
  {
   "cell_type": "code",
   "execution_count": null,
   "metadata": {},
   "outputs": [],
   "source": [
    "plot_df = pd.DataFrame(embedding,columns=['x','y'])"
   ]
  },
  {
   "cell_type": "code",
   "execution_count": null,
   "metadata": {},
   "outputs": [],
   "source": [
    "plot_df.head()"
   ]
  },
  {
   "cell_type": "code",
   "execution_count": null,
   "metadata": {},
   "outputs": [],
   "source": [
    "plot_df = pd.DataFrame({\n",
    "    'x': embedding[:, 0],\n",
    "    'y': embedding[:, 1],\n",
    "    'C33': df_features.IE, \n",
    "    'commensurate': df_features.commensurate\n",
    "})"
   ]
  },
  {
   "cell_type": "code",
   "execution_count": null,
   "metadata": {},
   "outputs": [],
   "source": [
    "plot_df.head()"
   ]
  },
  {
   "cell_type": "code",
   "execution_count": null,
   "metadata": {},
   "outputs": [],
   "source": [
    "colorby = ['C33','commensurate']\n",
    "\n",
    "for c in colorby: \n",
    "    plt.figure(figsize=(10, 10))\n",
    "    plt.scatter(data=plot_df, x='x', y='y', c=c, alpha=.1)\n",
    "    plt.gca().set_aspect('equal', 'datalim')\n",
    "    plt.title(f'UMAP {colorby[0]} projection\\n 300K features \\n({c},{n})', fontsize=24);\n",
    "    plt.axis('off')\n",
    "    plt.colorbar()\n",
    "    plt.savefig(f'plots/300K_{colorby[0]}_umap_{n}_samples_colorby_{c}.png', transparent=True)"
   ]
  },
  {
   "cell_type": "code",
   "execution_count": null,
   "metadata": {},
   "outputs": [],
   "source": [
    "plt.figure(figsize=(10, 10))\n",
    "sns.scatterplot(\n",
    "    x='x', y='y',\n",
    "    hue=\"commensurate\",\n",
    "    palette=sns.color_palette(\"husl\", 2),\n",
    "    data=plot_df,\n",
    "    alpha=0.9\n",
    ")\n",
    "plt.legend(loc='upper left')\n",
    "plt.axis('off')\n",
    "plt.savefig(f'plots/300K_{colorby[0]}_umap_{n}_samples_colorby_commensurate_bool.png', transparent=True)\n",
    "plt.show()"
   ]
  },
  {
   "cell_type": "markdown",
   "metadata": {},
   "source": [
    "### save embeddings to disk"
   ]
  },
  {
   "cell_type": "code",
   "execution_count": null,
   "metadata": {},
   "outputs": [],
   "source": [
    "from utils.config import Config"
   ]
  },
  {
   "cell_type": "code",
   "execution_count": null,
   "metadata": {},
   "outputs": [],
   "source": [
    "plot_df.head()"
   ]
  },
  {
   "cell_type": "code",
   "execution_count": null,
   "metadata": {},
   "outputs": [],
   "source": [
    "plot_df.to_csv(Config().get_datapath('umap_plot_df_C33.csv'))"
   ]
  },
  {
   "cell_type": "code",
   "execution_count": null,
   "metadata": {},
   "outputs": [],
   "source": []
  }
 ],
 "metadata": {
  "file_extension": ".py",
  "kernelspec": {
   "display_name": "Python 3",
   "language": "python",
   "name": "python3"
  },
  "language_info": {
   "codemirror_mode": {
    "name": "ipython",
    "version": 3
   },
   "file_extension": ".py",
   "mimetype": "text/x-python",
   "name": "python",
   "nbconvert_exporter": "python",
   "pygments_lexer": "ipython3",
   "version": "3.6.9"
  },
  "mimetype": "text/x-python",
  "name": "python",
  "npconvert_exporter": "python",
  "pygments_lexer": "ipython3",
  "version": 3
 },
 "nbformat": 4,
 "nbformat_minor": 4
}
